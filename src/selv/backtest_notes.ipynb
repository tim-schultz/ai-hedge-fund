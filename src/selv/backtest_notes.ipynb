{
 "cells": [
  {
   "cell_type": "markdown",
   "id": "59c2feef",
   "metadata": {},
   "source": [
    "Survivorship Bias: Survivorship bias is defined as a type of selection bias that occurs\n",
    "when analyses are conducted only on the data that have survived a selection process while ignoring those that did not. \n",
    "\n",
    "- not sure this is applicable"
   ]
  },
  {
   "cell_type": "markdown",
   "id": "ad55d627",
   "metadata": {},
   "source": [
    "Point-in-Time Considerations and Restated Data: Point in time refers to ensuring that\n",
    "data used in analysis or backtesting is reflective of the information that would have been available\n",
    "to researchers at that specific point in time. This is particularly relevant in the case of restated data,\n",
    "which involves adjustments made to previously reported financial figures, such as earnings,\n",
    "revenue, or other financial metrics, due to errors, accounting changes, or compliance with new\n",
    "accounting standards. Restatements can significantly alter historical financial statements, affecting\n",
    "the accuracy of financial analysis and the models that rely on those statements. For practitioners,\n",
    "it is essential to manage restated data carefully; this often means using a point-in-time database to\n",
    "capture financial data as it was originally reported, without incorporating restatements or\n",
    "adjustments made after the fact."
   ]
  },
  {
   "cell_type": "markdown",
   "id": "9b7bfc32",
   "metadata": {},
   "source": [
    "- Using historical data as it was originally reported\n"
   ]
  },
  {
   "cell_type": "markdown",
   "id": "fd8566d0",
   "metadata": {},
   "source": [
    "Dealing with Outliers\n",
    "\n",
    "- Mitigated by Monte Carlo simulation?"
   ]
  },
  {
   "cell_type": "markdown",
   "id": "061d1226",
   "metadata": {},
   "source": []
  },
  {
   "cell_type": "markdown",
   "id": "664dd318",
   "metadata": {},
   "source": []
  },
  {
   "cell_type": "markdown",
   "id": "34abd145",
   "metadata": {},
   "source": []
  },
  {
   "cell_type": "markdown",
   "id": "0552d577",
   "metadata": {},
   "source": []
  },
  {
   "cell_type": "markdown",
   "id": "23cd506f",
   "metadata": {},
   "source": []
  }
 ],
 "metadata": {
  "language_info": {
   "name": "python"
  }
 },
 "nbformat": 4,
 "nbformat_minor": 5
}
