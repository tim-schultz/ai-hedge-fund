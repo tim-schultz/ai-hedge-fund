{
 "cells": [
  {
   "cell_type": "code",
   "execution_count": 3,
   "id": "73494fcb",
   "metadata": {},
   "outputs": [],
   "source": [
    "import numpy as np\n",
    "import pandas as pd\n",
    "import tqdm\n",
    "from pathlib import Path\n",
    "import multiprocessing as mp\n",
    "from src.selv.monte_carlo import simulate_and_run_strategy  # your strategy definitions\n",
    "from src.selv.vis import plot_synthetic_paths, compare_strategies, analyze_monte_carlo_results\n",
    "from src.selv.strategies import STRATEGIES\n",
    "\n",
    "ONE_YR_1M_BTC = Path(\"/Users/timschultz/repos/ai-hedge-fund/btc_data.csv\")\n",
    "FIVE_YR_1M_BTC = Path(\"/Users/timschultz/repos/ai-hedge-fund/btc_1m_5yr.csv\")\n",
    "N_PATHS = 5_000  # simulations\n",
    "SEED = 42\n",
    "\n",
    "five_year_1m_btc = pd.read_csv(FIVE_YR_1M_BTC, parse_dates=[\"datetime\"], index_col=\"datetime\")\n"
   ]
  },
  {
   "cell_type": "code",
   "execution_count": null,
   "id": "ae78ac5e",
   "metadata": {},
   "outputs": [],
   "source": []
  },
  {
   "cell_type": "code",
   "execution_count": null,
   "id": "81faa286",
   "metadata": {},
   "outputs": [],
   "source": []
  },
  {
   "cell_type": "code",
   "execution_count": null,
   "id": "b114568e",
   "metadata": {},
   "outputs": [],
   "source": []
  },
  {
   "cell_type": "code",
   "execution_count": 4,
   "id": "20985e80",
   "metadata": {},
   "outputs": [
    {
     "data": {
      "text/plain": [
       "{'EMA_10_30_Cross': {'long_entry_fun': <function src.selv.strategies.long_ema_10_30_cross(df: pandas.core.frame.DataFrame) -> pandas.core.series.Series>,\n",
       "  'short_entry_fun': <function src.selv.strategies.short_ema_10_30_cross(df: pandas.core.frame.DataFrame) -> pandas.core.series.Series>,\n",
       "  'tp': 0.015,\n",
       "  'sl': 0.0075,\n",
       "  'max_minutes': 720},\n",
       " 'SMA_50_200_Cross': {'long_entry_fun': <function src.selv.strategies.long_sma_50_200_cross(df: pandas.core.frame.DataFrame) -> pandas.core.series.Series>,\n",
       "  'short_entry_fun': <function src.selv.strategies.short_sma_50_200_cross(df: pandas.core.frame.DataFrame) -> pandas.core.series.Series>,\n",
       "  'tp': 0.04,\n",
       "  'sl': 0.02,\n",
       "  'max_minutes': 4320},\n",
       " 'RSI_30_70': {'long_entry_fun': <function src.selv.strategies.long_rsi_30_70(df: pandas.core.frame.DataFrame) -> pandas.core.series.Series>,\n",
       "  'short_entry_fun': <function src.selv.strategies.short_rsi_30_70(df: pandas.core.frame.DataFrame) -> pandas.core.series.Series>,\n",
       "  'tp': 0.025,\n",
       "  'sl': 0.0125,\n",
       "  'max_minutes': 1440},\n",
       " 'MACD_Cross': {'long_entry_fun': <function src.selv.strategies.long_macd_cross(df: pandas.core.frame.DataFrame) -> pandas.core.series.Series>,\n",
       "  'short_entry_fun': <function src.selv.strategies.short_macd_cross(df: pandas.core.frame.DataFrame) -> pandas.core.series.Series>,\n",
       "  'tp': 0.03,\n",
       "  'sl': 0.015,\n",
       "  'max_minutes': 2880},\n",
       " 'MACD_RSI_Confirm': {'long_entry_fun': <function src.selv.strategies.long_macd_rsi_confirm(df: pandas.core.frame.DataFrame) -> pandas.core.series.Series>,\n",
       "  'short_entry_fun': <function src.selv.strategies.short_macd_rsi_confirm(df: pandas.core.frame.DataFrame) -> pandas.core.series.Series>,\n",
       "  'tp': 0.02,\n",
       "  'sl': 0.01,\n",
       "  'max_minutes': 1440}}"
      ]
     },
     "execution_count": 4,
     "metadata": {},
     "output_type": "execute_result"
    }
   ],
   "source": [
    "STRATEGIES"
   ]
  },
  {
   "cell_type": "code",
   "execution_count": null,
   "id": "979d2f32",
   "metadata": {},
   "outputs": [],
   "source": []
  },
  {
   "cell_type": "code",
   "execution_count": null,
   "id": "8cecce88",
   "metadata": {},
   "outputs": [],
   "source": []
  },
  {
   "cell_type": "code",
   "execution_count": null,
   "id": "e8fbcf98",
   "metadata": {},
   "outputs": [],
   "source": []
  },
  {
   "cell_type": "code",
   "execution_count": null,
   "id": "6872dabf",
   "metadata": {},
   "outputs": [],
   "source": []
  },
  {
   "cell_type": "code",
   "execution_count": null,
   "id": "efb4b4f4",
   "metadata": {},
   "outputs": [],
   "source": []
  },
  {
   "cell_type": "code",
   "execution_count": null,
   "id": "381eba3a",
   "metadata": {},
   "outputs": [],
   "source": []
  },
  {
   "cell_type": "code",
   "execution_count": null,
   "id": "778a3412",
   "metadata": {},
   "outputs": [],
   "source": []
  },
  {
   "cell_type": "code",
   "execution_count": null,
   "id": "73254b35",
   "metadata": {},
   "outputs": [],
   "source": []
  },
  {
   "cell_type": "markdown",
   "id": "9652c739",
   "metadata": {},
   "source": [
    "### Incorrect and Missing Data:\n",
    "- Coinbase should be a valid source\n",
    "- Script below checks for missing values\n"
   ]
  },
  {
   "cell_type": "code",
   "execution_count": 5,
   "id": "641ec66f",
   "metadata": {},
   "outputs": [
    {
     "name": "stdout",
     "output_type": "stream",
     "text": [
      "✅ No missing values — every row is complete.\n"
     ]
    }
   ],
   "source": [
    "# ---------- 1. Boolean mask of bad rows ----------\n",
    "# True  -> this row contains at least one NaN\n",
    "# False -> row is fully populated\n",
    "bad_rows = five_year_1m_btc.isna().any(axis=1)\n",
    "\n",
    "# ---------- 2a. Simple pass/fail check ----------\n",
    "if not bad_rows.any():\n",
    "    print(\"✅ No missing values — every row is complete.\")\n",
    "else:\n",
    "    print(f\"❌ Found {bad_rows.sum()} incomplete rows out of {len(df)}.\")\n",
    "    # optional preview\n",
    "    print(five_year_1m_btc[bad_rows].head())"
   ]
  },
  {
   "cell_type": "markdown",
   "id": "d8a88acc",
   "metadata": {},
   "source": [
    "Data Representativeness\n",
    "Implement  Min-Track-Record-Length to determine sufficient level of observations"
   ]
  },
  {
   "cell_type": "code",
   "execution_count": null,
   "id": "9577fe8d",
   "metadata": {},
   "outputs": [
    {
     "name": "stdout",
     "output_type": "stream",
     "text": [
      "strategies: {'EMA_10_30_Cross': {'long_entry_fun': <function long_ema_10_30_cross at 0x16a94dc60>, 'short_entry_fun': <function short_ema_10_30_cross at 0x16a94dd00>, 'tp': 0.015, 'sl': 0.0075, 'max_minutes': 720}, 'SMA_50_200_Cross': {'long_entry_fun': <function long_sma_50_200_cross at 0x16a94dda0>, 'short_entry_fun': <function short_sma_50_200_cross at 0x16a94de40>, 'tp': 0.04, 'sl': 0.02, 'max_minutes': 4320}, 'RSI_30_70': {'long_entry_fun': <function long_rsi_30_70 at 0x16a94dee0>, 'short_entry_fun': <function short_rsi_30_70 at 0x16a94df80>, 'tp': 0.025, 'sl': 0.0125, 'max_minutes': 1440}, 'MACD_Cross': {'long_entry_fun': <function long_macd_cross at 0x16a94e020>, 'short_entry_fun': <function short_macd_cross at 0x16a94e0c0>, 'tp': 0.03, 'sl': 0.015, 'max_minutes': 2880}, 'MACD_RSI_Confirm': {'long_entry_fun': <function long_macd_rsi_confirm at 0x16a94e160>, 'short_entry_fun': <function short_macd_rsi_confirm at 0x16a94e200>, 'tp': 0.02, 'sl': 0.01, 'max_minutes': 1440}}\n",
      "Number of tasks: 25000\n"
     ]
    },
    {
     "name": "stderr",
     "output_type": "stream",
     "text": [
      "  2%|▏         | 515/25000 [07:11<3:29:38,  1.95it/s]Process SpawnPoolWorker-1:\n",
      "Process SpawnPoolWorker-4:\n",
      "Process SpawnPoolWorker-3:\n",
      "Process SpawnPoolWorker-2:\n",
      "Process SpawnPoolWorker-10:\n",
      "Process SpawnPoolWorker-8:\n",
      "Process SpawnPoolWorker-7:\n",
      "  2%|▏         | 515/25000 [07:11<5:42:11,  1.19it/s]Process SpawnPoolWorker-5:\n",
      "\n",
      "Process SpawnPoolWorker-6:\n",
      "Process SpawnPoolWorker-9:\n",
      "Traceback (most recent call last):\n",
      "Traceback (most recent call last):\n",
      "  File \"/Users/timschultz/.pyenv/versions/3.12.8/lib/python3.12/multiprocessing/process.py\", line 314, in _bootstrap\n",
      "    self.run()\n",
      "  File \"/Users/timschultz/.pyenv/versions/3.12.8/lib/python3.12/multiprocessing/process.py\", line 108, in run\n",
      "    self._target(*self._args, **self._kwargs)\n",
      "  File \"/Users/timschultz/.pyenv/versions/3.12.8/lib/python3.12/multiprocessing/pool.py\", line 125, in worker\n",
      "    result = (True, func(*args, **kwds))\n",
      "                    ^^^^^^^^^^^^^^^^^^^\n",
      "  File \"/Users/timschultz/repos/ai-hedge-fund/src/selv/monte_carlo.py\", line 165, in simulate_and_run_strategy\n",
      "    result = run_strategy_on_df(\n",
      "             ^^^^^^^^^^^^^^^^^^^\n",
      "  File \"/Users/timschultz/repos/ai-hedge-fund/src/selv/indicators.py\", line 94, in run_strategy_on_df\n",
      "    minutes_held = (ts - entry_time).total_seconds() / 60\n",
      "                    ~~~^~~~~~~~~~~~\n",
      "  File \"timestamps.pyx\", line 529, in pandas._libs.tslibs.timestamps._Timestamp.__sub__\n",
      "  File \"timedeltas.pyx\", line 1645, in pandas._libs.tslibs.timedeltas._Timedelta._from_value_and_reso\n",
      "  File \"timedeltas.pyx\", line 969, in pandas._libs.tslibs.timedeltas._timedelta_from_value_and_reso\n",
      "KeyboardInterrupt\n",
      "  File \"/Users/timschultz/.pyenv/versions/3.12.8/lib/python3.12/multiprocessing/process.py\", line 314, in _bootstrap\n",
      "    self.run()\n",
      "  File \"/Users/timschultz/.pyenv/versions/3.12.8/lib/python3.12/multiprocessing/process.py\", line 108, in run\n",
      "    self._target(*self._args, **self._kwargs)\n",
      "  File \"/Users/timschultz/.pyenv/versions/3.12.8/lib/python3.12/multiprocessing/pool.py\", line 125, in worker\n",
      "    result = (True, func(*args, **kwds))\n",
      "                    ^^^^^^^^^^^^^^^^^^^\n",
      "  File \"/Users/timschultz/repos/ai-hedge-fund/src/selv/monte_carlo.py\", line 165, in simulate_and_run_strategy\n",
      "    result = run_strategy_on_df(\n",
      "             ^^^^^^^^^^^^^^^^^^^\n",
      "  File \"/Users/timschultz/repos/ai-hedge-fund/src/selv/indicators.py\", line 94, in run_strategy_on_df\n",
      "    minutes_held = (ts - entry_time).total_seconds() / 60\n",
      "                    ~~~^~~~~~~~~~~~\n",
      "  File \"timestamps.pyx\", line 529, in pandas._libs.tslibs.timestamps._Timestamp.__sub__\n",
      "  File \"timedeltas.pyx\", line 1645, in pandas._libs.tslibs.timedeltas._Timedelta._from_value_and_reso\n",
      "  File \"timedeltas.pyx\", line 969, in pandas._libs.tslibs.timedeltas._timedelta_from_value_and_reso\n",
      "KeyboardInterrupt\n",
      "Traceback (most recent call last):\n",
      "Traceback (most recent call last):\n",
      "  File \"/Users/timschultz/.pyenv/versions/3.12.8/lib/python3.12/multiprocessing/process.py\", line 314, in _bootstrap\n",
      "    self.run()\n",
      "  File \"/Users/timschultz/.pyenv/versions/3.12.8/lib/python3.12/multiprocessing/process.py\", line 108, in run\n",
      "    self._target(*self._args, **self._kwargs)\n",
      "  File \"/Users/timschultz/.pyenv/versions/3.12.8/lib/python3.12/multiprocessing/pool.py\", line 125, in worker\n",
      "    result = (True, func(*args, **kwds))\n",
      "                    ^^^^^^^^^^^^^^^^^^^\n",
      "  File \"/Users/timschultz/repos/ai-hedge-fund/src/selv/monte_carlo.py\", line 165, in simulate_and_run_strategy\n",
      "    result = run_strategy_on_df(\n",
      "             ^^^^^^^^^^^^^^^^^^^\n",
      "  File \"/Users/timschultz/repos/ai-hedge-fund/src/selv/indicators.py\", line 88, in run_strategy_on_df\n",
      "    if long_entry.loc[ts]:\n",
      "       ~~~~~~~~~~~~~~^^^^\n",
      "  File \"/Users/timschultz/Library/Caches/pypoetry/virtualenvs/ai-hedge-fund-Qm89W7aX-py3.12/lib/python3.12/site-packages/pandas/core/indexing.py\", line 1191, in __getitem__\n",
      "    return self._getitem_axis(maybe_callable, axis=axis)\n",
      "           ^^^^^^^^^^^^^^^^^^^^^^^^^^^^^^^^^^^^^^^^^^^^^\n",
      "  File \"/Users/timschultz/Library/Caches/pypoetry/virtualenvs/ai-hedge-fund-Qm89W7aX-py3.12/lib/python3.12/site-packages/pandas/core/indexing.py\", line 1414, in _getitem_axis\n",
      "    elif is_list_like_indexer(key):\n",
      "         ^^^^^^^^^^^^^^^^^^^^^^^^^\n",
      "  File \"/Users/timschultz/Library/Caches/pypoetry/virtualenvs/ai-hedge-fund-Qm89W7aX-py3.12/lib/python3.12/site-packages/pandas/core/indexers/utils.py\", line 62, in is_list_like_indexer\n",
      "    def is_list_like_indexer(key) -> bool:\n",
      "    \n",
      "KeyboardInterrupt\n",
      "  File \"/Users/timschultz/.pyenv/versions/3.12.8/lib/python3.12/multiprocessing/process.py\", line 314, in _bootstrap\n",
      "    self.run()\n",
      "  File \"/Users/timschultz/.pyenv/versions/3.12.8/lib/python3.12/multiprocessing/process.py\", line 108, in run\n",
      "    self._target(*self._args, **self._kwargs)\n",
      "  File \"/Users/timschultz/.pyenv/versions/3.12.8/lib/python3.12/multiprocessing/pool.py\", line 125, in worker\n",
      "    result = (True, func(*args, **kwds))\n",
      "                    ^^^^^^^^^^^^^^^^^^^\n",
      "  File \"/Users/timschultz/repos/ai-hedge-fund/src/selv/monte_carlo.py\", line 165, in simulate_and_run_strategy\n",
      "    result = run_strategy_on_df(\n",
      "             ^^^^^^^^^^^^^^^^^^^\n",
      "  File \"/Users/timschultz/repos/ai-hedge-fund/src/selv/indicators.py\", line 85, in run_strategy_on_df\n",
      "    price = row[\"close\"]\n",
      "            ~~~^^^^^^^^^\n",
      "  File \"/Users/timschultz/Library/Caches/pypoetry/virtualenvs/ai-hedge-fund-Qm89W7aX-py3.12/lib/python3.12/site-packages/pandas/core/series.py\", line 1108, in __getitem__\n",
      "    if is_integer(key) and self.index._should_fallback_to_positional:\n",
      "       ^^^^^^^^^^^^^^^\n",
      "KeyboardInterrupt\n",
      "Traceback (most recent call last):\n",
      "Traceback (most recent call last):\n",
      "  File \"/Users/timschultz/.pyenv/versions/3.12.8/lib/python3.12/multiprocessing/process.py\", line 314, in _bootstrap\n",
      "    self.run()\n",
      "  File \"/Users/timschultz/.pyenv/versions/3.12.8/lib/python3.12/multiprocessing/process.py\", line 108, in run\n",
      "    self._target(*self._args, **self._kwargs)\n",
      "  File \"/Users/timschultz/.pyenv/versions/3.12.8/lib/python3.12/multiprocessing/pool.py\", line 125, in worker\n",
      "    result = (True, func(*args, **kwds))\n",
      "                    ^^^^^^^^^^^^^^^^^^^\n",
      "  File \"/Users/timschultz/repos/ai-hedge-fund/src/selv/monte_carlo.py\", line 165, in simulate_and_run_strategy\n",
      "    result = run_strategy_on_df(\n",
      "             ^^^^^^^^^^^^^^^^^^^\n",
      "  File \"/Users/timschultz/repos/ai-hedge-fund/src/selv/indicators.py\", line 84, in run_strategy_on_df\n",
      "    for ts, row in df.iterrows():\n",
      "                   ^^^^^^^^^^^^^\n",
      "  File \"/Users/timschultz/Library/Caches/pypoetry/virtualenvs/ai-hedge-fund-Qm89W7aX-py3.12/lib/python3.12/site-packages/pandas/core/frame.py\", line 1554, in iterrows\n",
      "    s = klass(v, index=columns, name=k).__finalize__(self)\n",
      "        ^^^^^^^^^^^^^^^^^^^^^^^^^^^^^^^\n",
      "  File \"/Users/timschultz/Library/Caches/pypoetry/virtualenvs/ai-hedge-fund-Qm89W7aX-py3.12/lib/python3.12/site-packages/pandas/core/series.py\", line 588, in __init__\n",
      "    data = SingleBlockManager.from_array(data, index, refs=refs)\n",
      "           ^^^^^^^^^^^^^^^^^^^^^^^^^^^^^^^^^^^^^^^^^^^^^^^^^^^^^\n",
      "  File \"/Users/timschultz/Library/Caches/pypoetry/virtualenvs/ai-hedge-fund-Qm89W7aX-py3.12/lib/python3.12/site-packages/pandas/core/internals/managers.py\", line 1872, in from_array\n",
      "    block = new_block(array, placement=bp, ndim=1, refs=refs)\n",
      "            ^^^^^^^^^^^^^^^^^^^^^^^^^^^^^^^^^^^^^^^^^^^^^^^^^\n",
      "  File \"/Users/timschultz/Library/Caches/pypoetry/virtualenvs/ai-hedge-fund-Qm89W7aX-py3.12/lib/python3.12/site-packages/pandas/core/internals/blocks.py\", line 2728, in new_block\n",
      "    return klass(values, ndim=ndim, placement=placement, refs=refs)\n",
      "           ^^^^^^^^^^^^^^^^^^^^^^^^^^^^^^^^^^^^^^^^^^^^^^^^^^^^^^^^\n",
      "KeyboardInterrupt\n",
      "  File \"/Users/timschultz/.pyenv/versions/3.12.8/lib/python3.12/multiprocessing/process.py\", line 314, in _bootstrap\n",
      "    self.run()\n",
      "  File \"/Users/timschultz/.pyenv/versions/3.12.8/lib/python3.12/multiprocessing/process.py\", line 108, in run\n",
      "    self._target(*self._args, **self._kwargs)\n",
      "  File \"/Users/timschultz/.pyenv/versions/3.12.8/lib/python3.12/multiprocessing/pool.py\", line 125, in worker\n",
      "    result = (True, func(*args, **kwds))\n",
      "                    ^^^^^^^^^^^^^^^^^^^\n",
      "  File \"/Users/timschultz/repos/ai-hedge-fund/src/selv/monte_carlo.py\", line 165, in simulate_and_run_strategy\n",
      "    result = run_strategy_on_df(\n",
      "             ^^^^^^^^^^^^^^^^^^^\n",
      "  File \"/Users/timschultz/repos/ai-hedge-fund/src/selv/indicators.py\", line 84, in run_strategy_on_df\n",
      "    for ts, row in df.iterrows():\n",
      "                   ^^^^^^^^^^^^^\n",
      "  File \"/Users/timschultz/Library/Caches/pypoetry/virtualenvs/ai-hedge-fund-Qm89W7aX-py3.12/lib/python3.12/site-packages/pandas/core/frame.py\", line 1554, in iterrows\n",
      "    s = klass(v, index=columns, name=k).__finalize__(self)\n",
      "        ^^^^^^^^^^^^^^^^^^^^^^^^^^^^^^^\n",
      "  File \"/Users/timschultz/Library/Caches/pypoetry/virtualenvs/ai-hedge-fund-Qm89W7aX-py3.12/lib/python3.12/site-packages/pandas/core/series.py\", line 588, in __init__\n",
      "    data = SingleBlockManager.from_array(data, index, refs=refs)\n",
      "           ^^^^^^^^^^^^^^^^^^^^^^^^^^^^^^^^^^^^^^^^^^^^^^^^^^^^^\n",
      "  File \"/Users/timschultz/Library/Caches/pypoetry/virtualenvs/ai-hedge-fund-Qm89W7aX-py3.12/lib/python3.12/site-packages/pandas/core/internals/managers.py\", line 1863, in from_array\n",
      "    @classmethod\n",
      "    \n",
      "KeyboardInterrupt\n",
      "Traceback (most recent call last):\n",
      "Traceback (most recent call last):\n",
      "  File \"/Users/timschultz/.pyenv/versions/3.12.8/lib/python3.12/multiprocessing/process.py\", line 314, in _bootstrap\n",
      "    self.run()\n",
      "  File \"/Users/timschultz/.pyenv/versions/3.12.8/lib/python3.12/multiprocessing/process.py\", line 108, in run\n",
      "    self._target(*self._args, **self._kwargs)\n",
      "  File \"/Users/timschultz/.pyenv/versions/3.12.8/lib/python3.12/multiprocessing/pool.py\", line 125, in worker\n",
      "    result = (True, func(*args, **kwds))\n",
      "                    ^^^^^^^^^^^^^^^^^^^\n",
      "  File \"/Users/timschultz/repos/ai-hedge-fund/src/selv/monte_carlo.py\", line 165, in simulate_and_run_strategy\n",
      "    result = run_strategy_on_df(\n",
      "             ^^^^^^^^^^^^^^^^^^^\n",
      "  File \"/Users/timschultz/repos/ai-hedge-fund/src/selv/indicators.py\", line 84, in run_strategy_on_df\n",
      "    for ts, row in df.iterrows():\n",
      "                   ^^^^^^^^^^^^^\n",
      "  File \"/Users/timschultz/Library/Caches/pypoetry/virtualenvs/ai-hedge-fund-Qm89W7aX-py3.12/lib/python3.12/site-packages/pandas/core/frame.py\", line 1554, in iterrows\n",
      "    s = klass(v, index=columns, name=k).__finalize__(self)\n",
      "        ^^^^^^^^^^^^^^^^^^^^^^^^^^^^^^^\n",
      "  File \"/Users/timschultz/Library/Caches/pypoetry/virtualenvs/ai-hedge-fund-Qm89W7aX-py3.12/lib/python3.12/site-packages/pandas/core/series.py\", line 588, in __init__\n",
      "    data = SingleBlockManager.from_array(data, index, refs=refs)\n",
      "           ^^^^^^^^^^^^^^^^^^^^^^^^^^^^^^^^^^^^^^^^^^^^^^^^^^^^^\n",
      "  File \"/Users/timschultz/Library/Caches/pypoetry/virtualenvs/ai-hedge-fund-Qm89W7aX-py3.12/lib/python3.12/site-packages/pandas/core/internals/managers.py\", line 1872, in from_array\n",
      "    block = new_block(array, placement=bp, ndim=1, refs=refs)\n",
      "            ^^^^^^^^^^^^^^^^^^^^^^^^^^^^^^^^^^^^^^^^^^^^^^^^^\n",
      "  File \"/Users/timschultz/Library/Caches/pypoetry/virtualenvs/ai-hedge-fund-Qm89W7aX-py3.12/lib/python3.12/site-packages/pandas/core/internals/blocks.py\", line 2728, in new_block\n",
      "    return klass(values, ndim=ndim, placement=placement, refs=refs)\n",
      "           ^^^^^^^^^^^^^^^^^^^^^^^^^^^^^^^^^^^^^^^^^^^^^^^^^^^^^^^^\n",
      "KeyboardInterrupt\n",
      "  File \"/Users/timschultz/.pyenv/versions/3.12.8/lib/python3.12/multiprocessing/process.py\", line 314, in _bootstrap\n",
      "    self.run()\n",
      "  File \"/Users/timschultz/.pyenv/versions/3.12.8/lib/python3.12/multiprocessing/process.py\", line 108, in run\n",
      "    self._target(*self._args, **self._kwargs)\n",
      "  File \"/Users/timschultz/.pyenv/versions/3.12.8/lib/python3.12/multiprocessing/pool.py\", line 125, in worker\n",
      "    result = (True, func(*args, **kwds))\n",
      "                    ^^^^^^^^^^^^^^^^^^^\n",
      "  File \"/Users/timschultz/repos/ai-hedge-fund/src/selv/monte_carlo.py\", line 165, in simulate_and_run_strategy\n",
      "    result = run_strategy_on_df(\n",
      "             ^^^^^^^^^^^^^^^^^^^\n",
      "  File \"/Users/timschultz/repos/ai-hedge-fund/src/selv/indicators.py\", line 84, in run_strategy_on_df\n",
      "    for ts, row in df.iterrows():\n",
      "                   ^^^^^^^^^^^^^\n",
      "  File \"/Users/timschultz/Library/Caches/pypoetry/virtualenvs/ai-hedge-fund-Qm89W7aX-py3.12/lib/python3.12/site-packages/pandas/core/frame.py\", line 1554, in iterrows\n",
      "    s = klass(v, index=columns, name=k).__finalize__(self)\n",
      "        ^^^^^^^^^^^^^^^^^^^^^^^^^^^^^^^\n",
      "  File \"/Users/timschultz/Library/Caches/pypoetry/virtualenvs/ai-hedge-fund-Qm89W7aX-py3.12/lib/python3.12/site-packages/pandas/core/series.py\", line 586, in __init__\n",
      "    manager = _get_option(\"mode.data_manager\", silent=True)\n",
      "              ^^^^^^^^^^^^^^^^^^^^^^^^^^^^^^^^^^^^^^^^^^^^^\n",
      "  File \"/Users/timschultz/Library/Caches/pypoetry/virtualenvs/ai-hedge-fund-Qm89W7aX-py3.12/lib/python3.12/site-packages/pandas/_config/config.py\", line 149, in _get_option\n",
      "    root, k = _get_root(key)\n",
      "              ^^^^^^^^^^^^^^\n",
      "  File \"/Users/timschultz/Library/Caches/pypoetry/virtualenvs/ai-hedge-fund-Qm89W7aX-py3.12/lib/python3.12/site-packages/pandas/_config/config.py\", line 636, in _get_root\n",
      "    path = key.split(\".\")\n",
      "           ^^^^^^^^^^^^^^\n",
      "KeyboardInterrupt\n",
      "Traceback (most recent call last):\n",
      "  File \"/Users/timschultz/.pyenv/versions/3.12.8/lib/python3.12/multiprocessing/process.py\", line 314, in _bootstrap\n",
      "    self.run()\n",
      "  File \"/Users/timschultz/.pyenv/versions/3.12.8/lib/python3.12/multiprocessing/process.py\", line 108, in run\n",
      "    self._target(*self._args, **self._kwargs)\n",
      "  File \"/Users/timschultz/.pyenv/versions/3.12.8/lib/python3.12/multiprocessing/pool.py\", line 125, in worker\n",
      "    result = (True, func(*args, **kwds))\n",
      "                    ^^^^^^^^^^^^^^^^^^^\n",
      "  File \"/Users/timschultz/repos/ai-hedge-fund/src/selv/monte_carlo.py\", line 165, in simulate_and_run_strategy\n",
      "    result = run_strategy_on_df(\n",
      "             ^^^^^^^^^^^^^^^^^^^\n",
      "  File \"/Users/timschultz/repos/ai-hedge-fund/src/selv/indicators.py\", line 84, in run_strategy_on_df\n",
      "    for ts, row in df.iterrows():\n",
      "                   ^^^^^^^^^^^^^\n",
      "  File \"/Users/timschultz/Library/Caches/pypoetry/virtualenvs/ai-hedge-fund-Qm89W7aX-py3.12/lib/python3.12/site-packages/pandas/core/frame.py\", line 1554, in iterrows\n",
      "    s = klass(v, index=columns, name=k).__finalize__(self)\n",
      "        ^^^^^^^^^^^^^^^^^^^^^^^^^^^^^^^^^^^^^^^^^^^^^^^^^^\n",
      "  File \"/Users/timschultz/Library/Caches/pypoetry/virtualenvs/ai-hedge-fund-Qm89W7aX-py3.12/lib/python3.12/site-packages/pandas/core/generic.py\", line 6264, in __finalize__\n",
      "    for name in set(self._metadata) & set(other._metadata):\n",
      "                                      ^^^^^^^^^^^^^^^^^^^^\n",
      "KeyboardInterrupt\n",
      "Traceback (most recent call last):\n",
      "  File \"/Users/timschultz/.pyenv/versions/3.12.8/lib/python3.12/multiprocessing/process.py\", line 314, in _bootstrap\n",
      "    self.run()\n",
      "  File \"/Users/timschultz/.pyenv/versions/3.12.8/lib/python3.12/multiprocessing/process.py\", line 108, in run\n",
      "    self._target(*self._args, **self._kwargs)\n",
      "  File \"/Users/timschultz/.pyenv/versions/3.12.8/lib/python3.12/multiprocessing/pool.py\", line 125, in worker\n",
      "    result = (True, func(*args, **kwds))\n",
      "                    ^^^^^^^^^^^^^^^^^^^\n",
      "  File \"/Users/timschultz/repos/ai-hedge-fund/src/selv/monte_carlo.py\", line 165, in simulate_and_run_strategy\n",
      "    result = run_strategy_on_df(\n",
      "             ^^^^^^^^^^^^^^^^^^^\n",
      "  File \"/Users/timschultz/repos/ai-hedge-fund/src/selv/indicators.py\", line 84, in run_strategy_on_df\n",
      "    for ts, row in df.iterrows():\n",
      "                   ^^^^^^^^^^^^^\n",
      "  File \"/Users/timschultz/Library/Caches/pypoetry/virtualenvs/ai-hedge-fund-Qm89W7aX-py3.12/lib/python3.12/site-packages/pandas/core/frame.py\", line 1554, in iterrows\n",
      "    s = klass(v, index=columns, name=k).__finalize__(self)\n",
      "        ^^^^^^^^^^^^^^^^^^^^^^^^^^^^^^^\n",
      "  File \"/Users/timschultz/Library/Caches/pypoetry/virtualenvs/ai-hedge-fund-Qm89W7aX-py3.12/lib/python3.12/site-packages/pandas/core/series.py\", line 593, in __init__\n",
      "    self.name = name\n",
      "    ^^^^^^^^^\n",
      "  File \"/Users/timschultz/Library/Caches/pypoetry/virtualenvs/ai-hedge-fund-Qm89W7aX-py3.12/lib/python3.12/site-packages/pandas/core/generic.py\", line 6320, in __setattr__\n",
      "    object.__setattr__(self, name, value)\n",
      "  File \"/Users/timschultz/Library/Caches/pypoetry/virtualenvs/ai-hedge-fund-Qm89W7aX-py3.12/lib/python3.12/site-packages/pandas/core/series.py\", line 787, in name\n",
      "    object.__setattr__(self, \"_name\", value)\n",
      "KeyboardInterrupt\n"
     ]
    },
    {
     "ename": "KeyboardInterrupt",
     "evalue": "",
     "output_type": "error",
     "traceback": [
      "\u001b[31m---------------------------------------------------------------------------\u001b[39m",
      "\u001b[31mIndexError\u001b[39m                                Traceback (most recent call last)",
      "\u001b[36mFile \u001b[39m\u001b[32m~/.pyenv/versions/3.12.8/lib/python3.12/multiprocessing/pool.py:856\u001b[39m, in \u001b[36mIMapIterator.next\u001b[39m\u001b[34m(self, timeout)\u001b[39m\n\u001b[32m    855\u001b[39m \u001b[38;5;28;01mtry\u001b[39;00m:\n\u001b[32m--> \u001b[39m\u001b[32m856\u001b[39m     item = \u001b[38;5;28;43mself\u001b[39;49m\u001b[43m.\u001b[49m\u001b[43m_items\u001b[49m\u001b[43m.\u001b[49m\u001b[43mpopleft\u001b[49m\u001b[43m(\u001b[49m\u001b[43m)\u001b[49m\n\u001b[32m    857\u001b[39m \u001b[38;5;28;01mexcept\u001b[39;00m \u001b[38;5;167;01mIndexError\u001b[39;00m:\n",
      "\u001b[31mIndexError\u001b[39m: pop from an empty deque",
      "\nDuring handling of the above exception, another exception occurred:\n",
      "\u001b[31mKeyboardInterrupt\u001b[39m                         Traceback (most recent call last)",
      "\u001b[36mCell\u001b[39m\u001b[36m \u001b[39m\u001b[32mIn[6]\u001b[39m\u001b[32m, line 22\u001b[39m\n\u001b[32m     19\u001b[39m \u001b[38;5;28mprint\u001b[39m(\u001b[33mf\u001b[39m\u001b[33m\"\u001b[39m\u001b[33mNumber of tasks: \u001b[39m\u001b[38;5;132;01m{\u001b[39;00m\u001b[38;5;28mlen\u001b[39m(tasks)\u001b[38;5;132;01m}\u001b[39;00m\u001b[33m\"\u001b[39m)\n\u001b[32m     21\u001b[39m \u001b[38;5;28;01mwith\u001b[39;00m mp.Pool() \u001b[38;5;28;01mas\u001b[39;00m pool:\n\u001b[32m---> \u001b[39m\u001b[32m22\u001b[39m     stats = \u001b[38;5;28;43mlist\u001b[39;49m\u001b[43m(\u001b[49m\n\u001b[32m     23\u001b[39m \u001b[43m        \u001b[49m\u001b[43mtqdm\u001b[49m\u001b[43m.\u001b[49m\u001b[43mtqdm\u001b[49m\u001b[43m(\u001b[49m\n\u001b[32m     24\u001b[39m \u001b[43m            \u001b[49m\u001b[43mpool\u001b[49m\u001b[43m.\u001b[49m\u001b[43mimap_unordered\u001b[49m\u001b[43m(\u001b[49m\u001b[43msimulate_and_run_strategy\u001b[49m\u001b[43m,\u001b[49m\u001b[43m \u001b[49m\u001b[43mtasks\u001b[49m\u001b[43m)\u001b[49m\u001b[43m,\u001b[49m\u001b[43m \u001b[49m\u001b[43mtotal\u001b[49m\u001b[43m=\u001b[49m\u001b[38;5;28;43mlen\u001b[39;49m\u001b[43m(\u001b[49m\u001b[43mtasks\u001b[49m\u001b[43m)\u001b[49m\n\u001b[32m     25\u001b[39m \u001b[43m        \u001b[49m\u001b[43m)\u001b[49m\n\u001b[32m     26\u001b[39m \u001b[43m    \u001b[49m\u001b[43m)\u001b[49m\n\u001b[32m     28\u001b[39m mc_df = pd.DataFrame(stats)\n\u001b[32m     29\u001b[39m mc_df.to_csv(\u001b[33m\"\u001b[39m\u001b[33mmc_results.csv\u001b[39m\u001b[33m\"\u001b[39m, index=\u001b[38;5;28;01mFalse\u001b[39;00m)\n",
      "\u001b[36mFile \u001b[39m\u001b[32m~/Library/Caches/pypoetry/virtualenvs/ai-hedge-fund-Qm89W7aX-py3.12/lib/python3.12/site-packages/tqdm/std.py:1181\u001b[39m, in \u001b[36mtqdm.__iter__\u001b[39m\u001b[34m(self)\u001b[39m\n\u001b[32m   1178\u001b[39m time = \u001b[38;5;28mself\u001b[39m._time\n\u001b[32m   1180\u001b[39m \u001b[38;5;28;01mtry\u001b[39;00m:\n\u001b[32m-> \u001b[39m\u001b[32m1181\u001b[39m \u001b[43m    \u001b[49m\u001b[38;5;28;43;01mfor\u001b[39;49;00m\u001b[43m \u001b[49m\u001b[43mobj\u001b[49m\u001b[43m \u001b[49m\u001b[38;5;129;43;01min\u001b[39;49;00m\u001b[43m \u001b[49m\u001b[43miterable\u001b[49m\u001b[43m:\u001b[49m\n\u001b[32m   1182\u001b[39m \u001b[43m        \u001b[49m\u001b[38;5;28;43;01myield\u001b[39;49;00m\u001b[43m \u001b[49m\u001b[43mobj\u001b[49m\n\u001b[32m   1183\u001b[39m \u001b[43m        \u001b[49m\u001b[38;5;66;43;03m# Update and possibly print the progressbar.\u001b[39;49;00m\n\u001b[32m   1184\u001b[39m \u001b[43m        \u001b[49m\u001b[38;5;66;43;03m# Note: does not call self.update(1) for speed optimisation.\u001b[39;49;00m\n",
      "\u001b[36mFile \u001b[39m\u001b[32m~/.pyenv/versions/3.12.8/lib/python3.12/multiprocessing/pool.py:861\u001b[39m, in \u001b[36mIMapIterator.next\u001b[39m\u001b[34m(self, timeout)\u001b[39m\n\u001b[32m    859\u001b[39m     \u001b[38;5;28mself\u001b[39m._pool = \u001b[38;5;28;01mNone\u001b[39;00m\n\u001b[32m    860\u001b[39m     \u001b[38;5;28;01mraise\u001b[39;00m \u001b[38;5;167;01mStopIteration\u001b[39;00m \u001b[38;5;28;01mfrom\u001b[39;00m\u001b[38;5;250m \u001b[39m\u001b[38;5;28;01mNone\u001b[39;00m\n\u001b[32m--> \u001b[39m\u001b[32m861\u001b[39m \u001b[38;5;28;43mself\u001b[39;49m\u001b[43m.\u001b[49m\u001b[43m_cond\u001b[49m\u001b[43m.\u001b[49m\u001b[43mwait\u001b[49m\u001b[43m(\u001b[49m\u001b[43mtimeout\u001b[49m\u001b[43m)\u001b[49m\n\u001b[32m    862\u001b[39m \u001b[38;5;28;01mtry\u001b[39;00m:\n\u001b[32m    863\u001b[39m     item = \u001b[38;5;28mself\u001b[39m._items.popleft()\n",
      "\u001b[36mFile \u001b[39m\u001b[32m~/.pyenv/versions/3.12.8/lib/python3.12/threading.py:355\u001b[39m, in \u001b[36mCondition.wait\u001b[39m\u001b[34m(self, timeout)\u001b[39m\n\u001b[32m    353\u001b[39m \u001b[38;5;28;01mtry\u001b[39;00m:    \u001b[38;5;66;03m# restore state no matter what (e.g., KeyboardInterrupt)\u001b[39;00m\n\u001b[32m    354\u001b[39m     \u001b[38;5;28;01mif\u001b[39;00m timeout \u001b[38;5;129;01mis\u001b[39;00m \u001b[38;5;28;01mNone\u001b[39;00m:\n\u001b[32m--> \u001b[39m\u001b[32m355\u001b[39m         \u001b[43mwaiter\u001b[49m\u001b[43m.\u001b[49m\u001b[43macquire\u001b[49m\u001b[43m(\u001b[49m\u001b[43m)\u001b[49m\n\u001b[32m    356\u001b[39m         gotit = \u001b[38;5;28;01mTrue\u001b[39;00m\n\u001b[32m    357\u001b[39m     \u001b[38;5;28;01melse\u001b[39;00m:\n",
      "\u001b[31mKeyboardInterrupt\u001b[39m: "
     ]
    }
   ],
   "source": [
    "five_year_1m_btc = pd.read_csv(FIVE_YR_1M_BTC, parse_dates=[\"datetime\"], index_col=\"datetime\")\n",
    "N_PATHS = 5_0\n",
    "tasks = []\n",
    "print(\"strategies:\", STRATEGIES)\n",
    "for strategy_name, funcs in STRATEGIES.items():\n",
    "    for i in range(N_PATHS):\n",
    "        # Each task: (unique_id_for_rng_and_path, strategy_name, long_func, short_func)\n",
    "        # To ensure unique paths for each (strategy, path_num) combination,\n",
    "        # we can use a global path counter for the seed or combine strategy index and path index.\n",
    "        # Here, (i) will be the path_id for a given strategy.\n",
    "        # The RNG seed will be SEED + i, meaning path i for strategy A is same as path i for strategy B.\n",
    "        # If truly independent paths are needed for each strategy-path combo, adjust seeding.\n",
    "        tasks.append(\n",
    "            (i, strategy_name,\n",
    "            funcs[\"long_entry_fun\"], funcs[\"short_entry_fun\"],\n",
    "            funcs[\"tp\"], funcs[\"sl\"], funcs[\"max_minutes\"],\n",
    "            SEED, five_year_1m_btc)\n",
    "        )\n",
    "print(f\"Number of tasks: {len(tasks)}\")\n",
    "\n",
    "with mp.Pool() as pool:\n",
    "    stats = list(\n",
    "        tqdm.tqdm(\n",
    "            pool.imap_unordered(simulate_and_run_strategy, tasks), total=len(tasks)\n",
    "        )\n",
    "    )\n",
    "\n",
    "mc_df = pd.DataFrame(stats)\n",
    "mc_df.to_csv(\"mc_results.csv\", index=False)\n",
    "print(mc_df.describe(percentiles=[0.05, 0.5, 0.95]))"
   ]
  },
  {
   "cell_type": "code",
   "execution_count": null,
   "id": "fd1f6455",
   "metadata": {},
   "outputs": [],
   "source": []
  },
  {
   "cell_type": "code",
   "execution_count": null,
   "id": "0e16f600",
   "metadata": {},
   "outputs": [],
   "source": []
  },
  {
   "cell_type": "code",
   "execution_count": null,
   "id": "98f403d6",
   "metadata": {},
   "outputs": [],
   "source": []
  },
  {
   "cell_type": "code",
   "execution_count": null,
   "id": "2a617139",
   "metadata": {},
   "outputs": [],
   "source": []
  },
  {
   "cell_type": "code",
   "execution_count": null,
   "id": "774ea1b1",
   "metadata": {},
   "outputs": [],
   "source": []
  },
  {
   "cell_type": "code",
   "execution_count": null,
   "id": "2a655817",
   "metadata": {},
   "outputs": [
    {
     "name": "stdout",
     "output_type": "stream",
     "text": [
      "Share of paths with significant Sharpe: 1.0\n"
     ]
    }
   ],
   "source": [
    "sig = mc_df[\"MinTRL\"] <= len(five_year_1m_btc)    # statistically significant\n",
    "print(\"Share of paths with significant Sharpe:\", sig.mean())"
   ]
  },
  {
   "cell_type": "code",
   "execution_count": null,
   "id": "6027e2b3",
   "metadata": {},
   "outputs": [],
   "source": []
  },
  {
   "cell_type": "code",
   "execution_count": null,
   "id": "c0f8086b",
   "metadata": {},
   "outputs": [],
   "source": []
  },
  {
   "cell_type": "code",
   "execution_count": null,
   "id": "25f5c3f8",
   "metadata": {},
   "outputs": [],
   "source": [
    "# 1. Is def simulate_path correct?\n",
    "# TODO\n"
   ]
  },
  {
   "cell_type": "code",
   "execution_count": null,
   "id": "1475de24",
   "metadata": {},
   "outputs": [],
   "source": [
    "# 3. Compare each aspect of https://media.licdn.com/dms/document/media/v2/D561FAQFmtQMpnT5XUg/feedshare-document-pdf-analyzed/feedshare-document-pdf-analyzed/0/1722857702819?e=1747267200&v=beta&t=5No7UJQwEZxhjN_O7qN5dBhFXclHIf_Fe6W2jQKPkUY to the implementation and try to explain each"
   ]
  },
  {
   "cell_type": "code",
   "execution_count": null,
   "id": "619435db",
   "metadata": {},
   "outputs": [],
   "source": [
    "# Slippage, TX Fees, Liquidity\n"
   ]
  },
  {
   "cell_type": "code",
   "execution_count": null,
   "id": "99625cd4",
   "metadata": {},
   "outputs": [],
   "source": [
    "# 4. Give report a grade and be able to defend the grade. For this will at least need to be able to explain sharpe ratio"
   ]
  },
  {
   "cell_type": "code",
   "execution_count": null,
   "id": "3f971d19",
   "metadata": {},
   "outputs": [],
   "source": [
    "# 5. Improve the report. Add graphs. Fix up actual strategy"
   ]
  },
  {
   "cell_type": "code",
   "execution_count": null,
   "id": "047bbeb6",
   "metadata": {},
   "outputs": [],
   "source": [
    "# 6. Run on live data. Finish up the live data script????"
   ]
  },
  {
   "cell_type": "code",
   "execution_count": null,
   "id": "4f58448c",
   "metadata": {},
   "outputs": [
    {
     "name": "stdout",
     "output_type": "stream",
     "text": [
      "strategies: {'EMA_10_30_Cross': {'long_entry_fun': <function long_ema_10_30_cross at 0x122c64e00>, 'short_entry_fun': <function short_ema_10_30_cross at 0x122c7fb00>}}\n",
      "Number of tasks: 5000\n"
     ]
    },
    {
     "name": "stderr",
     "output_type": "stream",
     "text": [
      "100%|██████████| 5000/5000 [17:37<00:00,  4.73it/s]\n"
     ]
    },
    {
     "name": "stdout",
     "output_type": "stream",
     "text": [
      "       equity_ratio          cash       sharpe       max_dd      path_id\n",
      "count   5000.000000   5000.000000  5000.000000  5000.000000  5000.000000\n",
      "mean       1.034297  10342.967655    -0.407674     0.471711  2499.500000\n",
      "std        0.569342   5693.422866     2.063525     0.131279  1443.520003\n",
      "min        0.161007   1610.073643    -7.453837     0.166815     0.000000\n",
      "5%         0.389110   3891.099979    -3.826326     0.277303   249.950000\n",
      "50%        0.904466   9044.659734    -0.405264     0.463326  2499.500000\n",
      "95%        2.097457  20974.565951     2.951880     0.701231  4749.050000\n",
      "max        6.771377  67713.765237     7.563630     0.858385  4999.000000\n"
     ]
    }
   ],
   "source": [
    "tasks = []\n",
    "print(\"strategies:\", STRATEGIES)\n",
    "for strategy_name, funcs in STRATEGIES.items():\n",
    "    for i in range(N_PATHS):\n",
    "        # Each task: (unique_id_for_rng_and_path, strategy_name, long_func, short_func)\n",
    "        # To ensure unique paths for each (strategy, path_num) combination,\n",
    "        # we can use a global path counter for the seed or combine strategy index and path index.\n",
    "        # Here, (i) will be the path_id for a given strategy.\n",
    "        # The RNG seed will be SEED + i, meaning path i for strategy A is same as path i for strategy B.\n",
    "        # If truly independent paths are needed for each strategy-path combo, adjust seeding.\n",
    "        tasks.append(\n",
    "            (i, strategy_name, funcs[\"long_entry_fun\"], funcs[\"short_entry_fun\"], SEED, original_df)\n",
    "        )\n",
    "print(f\"Number of tasks: {len(tasks)}\")\n",
    "\n",
    "with mp.Pool() as pool:\n",
    "    stats = list(\n",
    "        tqdm.tqdm(\n",
    "            pool.imap_unordered(simulate_and_run_strategy, tasks), total=len(tasks)\n",
    "        )\n",
    "    )\n",
    "\n",
    "mc_df = pd.DataFrame(stats)\n",
    "mc_df.to_csv(\"mc_results.csv\", index=False)\n",
    "print(mc_df.describe(percentiles=[0.05, 0.5, 0.95]))"
   ]
  },
  {
   "cell_type": "code",
   "execution_count": null,
   "id": "ea2434a4",
   "metadata": {},
   "outputs": [],
   "source": []
  },
  {
   "cell_type": "code",
   "execution_count": null,
   "id": "32dc3bdb",
   "metadata": {},
   "outputs": [],
   "source": []
  },
  {
   "cell_type": "code",
   "execution_count": null,
   "id": "0bda1ea9",
   "metadata": {},
   "outputs": [
    {
     "name": "stdout",
     "output_type": "stream",
     "text": [
      "strategies: {'EMA_10_30_Cross': {'long_entry_fun': <function long_ema_10_30_cross at 0x122c64e00>, 'short_entry_fun': <function short_ema_10_30_cross at 0x122c7fb00>}}\n",
      "Number of tasks: 5000\n"
     ]
    },
    {
     "name": "stderr",
     "output_type": "stream",
     "text": [
      "100%|██████████| 5000/5000 [17:37<00:00,  4.73it/s]"
     ]
    },
    {
     "name": "stdout",
     "output_type": "stream",
     "text": [
      "            equity       sharpe       max_dd      path_id\n",
      "count  5000.000000  5000.000000  5000.000000  5000.000000\n",
      "mean      1.034297    -0.407674     0.471711  2499.500000\n",
      "std       0.569342     2.063525     0.131279  1443.520003\n",
      "min       0.161007    -7.453837     0.166815     0.000000\n",
      "5%        0.389110    -3.826326     0.277303   249.950000\n",
      "50%       0.904466    -0.405264     0.463326  2499.500000\n",
      "95%       2.097457     2.951880     0.701231  4749.050000\n",
      "max       6.771377     7.563630     0.858385  4999.000000\n"
     ]
    },
    {
     "name": "stderr",
     "output_type": "stream",
     "text": [
      "\n"
     ]
    }
   ],
   "source": [
    "tasks = []\n",
    "print(\"strategies:\", STRATEGIES)\n",
    "for strategy_name, funcs in STRATEGIES.items():\n",
    "    for i in range(N_PATHS):\n",
    "        # Each task: (unique_id_for_rng_and_path, strategy_name, long_func, short_func)\n",
    "        # To ensure unique paths for each (strategy, path_num) combination,\n",
    "        # we can use a global path counter for the seed or combine strategy index and path index.\n",
    "        # Here, (i) will be the path_id for a given strategy.\n",
    "        # The RNG seed will be SEED + i, meaning path i for strategy A is same as path i for strategy B.\n",
    "        # If truly independent paths are needed for each strategy-path combo, adjust seeding.\n",
    "        tasks.append(\n",
    "            (i, strategy_name, funcs[\"long_entry_fun\"], funcs[\"short_entry_fun\"], SEED, original_df)\n",
    "        )\n",
    "print(f\"Number of tasks: {len(tasks)}\")\n",
    "\n",
    "with mp.Pool() as pool:\n",
    "    stats = list(\n",
    "        tqdm.tqdm(\n",
    "            pool.imap_unordered(simulate_and_run_strategy, tasks), total=len(tasks)\n",
    "        )\n",
    "    )\n",
    "\n",
    "mc_df = pd.DataFrame(stats)\n",
    "mc_df.to_csv(\"mc_results.csv\", index=False)\n",
    "print(mc_df.describe(percentiles=[0.05, 0.5, 0.95]))"
   ]
  },
  {
   "cell_type": "code",
   "execution_count": null,
   "id": "3d81b2fd",
   "metadata": {},
   "outputs": [
    {
     "ename": "FileNotFoundError",
     "evalue": "No sim_path_*.parquet files found in src/selv/debug",
     "output_type": "error",
     "traceback": [
      "\u001b[31m---------------------------------------------------------------------------\u001b[39m",
      "\u001b[31mFileNotFoundError\u001b[39m                         Traceback (most recent call last)",
      "\u001b[36mCell\u001b[39m\u001b[36m \u001b[39m\u001b[32mIn[7]\u001b[39m\u001b[32m, line 1\u001b[39m\n\u001b[32m----> \u001b[39m\u001b[32m1\u001b[39m fig, paths_df = \u001b[43mplot_synthetic_paths\u001b[49m\u001b[43m(\u001b[49m\u001b[43mdebug_dir_path\u001b[49m\u001b[43m=\u001b[49m\u001b[33;43m\"\u001b[39;49m\u001b[33;43msrc/selv/debug\u001b[39;49m\u001b[33;43m\"\u001b[39;49m\u001b[43m)\u001b[49m\n\u001b[32m      3\u001b[39m \u001b[38;5;66;03m# Compare strategies (average performance)\u001b[39;00m\n\u001b[32m      4\u001b[39m compare_fig = compare_strategies(paths_df)\n",
      "\u001b[36mFile \u001b[39m\u001b[32m~/repos/ai-hedge-fund/src/selv/vis.py:46\u001b[39m, in \u001b[36mplot_synthetic_paths\u001b[39m\u001b[34m(debug_dir_path, save_path, figsize, alpha)\u001b[39m\n\u001b[32m     44\u001b[39m files = \u001b[38;5;28msorted\u001b[39m(debug_dir.glob(\u001b[33m\"\u001b[39m\u001b[33msim_path_*.parquet\u001b[39m\u001b[33m\"\u001b[39m))\n\u001b[32m     45\u001b[39m \u001b[38;5;28;01mif\u001b[39;00m \u001b[38;5;129;01mnot\u001b[39;00m files:\n\u001b[32m---> \u001b[39m\u001b[32m46\u001b[39m     \u001b[38;5;28;01mraise\u001b[39;00m \u001b[38;5;167;01mFileNotFoundError\u001b[39;00m(\u001b[33mf\u001b[39m\u001b[33m\"\u001b[39m\u001b[33mNo sim_path_*.parquet files found in \u001b[39m\u001b[38;5;132;01m{\u001b[39;00mdebug_dir\u001b[38;5;132;01m}\u001b[39;00m\u001b[33m\"\u001b[39m)\n\u001b[32m     48\u001b[39m \u001b[38;5;66;03m# Regex to extract strategy and path_id from filename\u001b[39;00m\n\u001b[32m     49\u001b[39m name_re = re.compile(\u001b[33mr\u001b[39m\u001b[33m\"\u001b[39m\u001b[33m^sim_path_(.+)_(\u001b[39m\u001b[33m\\\u001b[39m\u001b[33md+)\u001b[39m\u001b[33m\\\u001b[39m\u001b[33m.parquet$\u001b[39m\u001b[33m\"\u001b[39m)\n",
      "\u001b[31mFileNotFoundError\u001b[39m: No sim_path_*.parquet files found in src/selv/debug"
     ]
    }
   ],
   "source": [
    "fig, paths_df = plot_synthetic_paths(debug_dir_path=\"src/selv/debug\")\n",
    "\n",
    "# Compare strategies (average performance)\n",
    "compare_fig = compare_strategies(paths_df)\n",
    "\n",
    "# Analyze Monte Carlo results\n",
    "summary, boxplots = analyze_monte_carlo_results(\"mc_results.csv\")\n",
    "print(summary)\n"
   ]
  },
  {
   "cell_type": "code",
   "execution_count": null,
   "id": "1c625d68",
   "metadata": {},
   "outputs": [],
   "source": []
  },
  {
   "cell_type": "code",
   "execution_count": null,
   "id": "2d8d2475",
   "metadata": {},
   "outputs": [],
   "source": []
  },
  {
   "cell_type": "code",
   "execution_count": null,
   "id": "a87a6e5d",
   "metadata": {},
   "outputs": [],
   "source": []
  },
  {
   "cell_type": "code",
   "execution_count": null,
   "id": "e87e6062",
   "metadata": {},
   "outputs": [],
   "source": []
  },
  {
   "cell_type": "code",
   "execution_count": null,
   "id": "0437d3db",
   "metadata": {},
   "outputs": [],
   "source": []
  },
  {
   "cell_type": "code",
   "execution_count": null,
   "id": "e71fcbb4",
   "metadata": {},
   "outputs": [],
   "source": []
  },
  {
   "cell_type": "code",
   "execution_count": null,
   "id": "a2d07234",
   "metadata": {},
   "outputs": [],
   "source": []
  },
  {
   "cell_type": "code",
   "execution_count": null,
   "id": "bca2e25a",
   "metadata": {},
   "outputs": [],
   "source": []
  },
  {
   "cell_type": "code",
   "execution_count": null,
   "id": "0b12890c",
   "metadata": {},
   "outputs": [],
   "source": []
  },
  {
   "cell_type": "code",
   "execution_count": null,
   "id": "2d920dad",
   "metadata": {},
   "outputs": [],
   "source": []
  },
  {
   "cell_type": "code",
   "execution_count": null,
   "id": "c4e94d27",
   "metadata": {},
   "outputs": [],
   "source": []
  },
  {
   "cell_type": "code",
   "execution_count": null,
   "id": "6b901140",
   "metadata": {},
   "outputs": [],
   "source": []
  },
  {
   "cell_type": "code",
   "execution_count": null,
   "id": "81b18b3b",
   "metadata": {},
   "outputs": [],
   "source": []
  },
  {
   "cell_type": "code",
   "execution_count": null,
   "id": "49cdff48",
   "metadata": {},
   "outputs": [],
   "source": []
  },
  {
   "cell_type": "code",
   "execution_count": null,
   "id": "1a15ab47",
   "metadata": {},
   "outputs": [],
   "source": []
  },
  {
   "cell_type": "code",
   "execution_count": null,
   "id": "65de51e4",
   "metadata": {},
   "outputs": [],
   "source": []
  },
  {
   "cell_type": "code",
   "execution_count": null,
   "id": "21c3e107",
   "metadata": {},
   "outputs": [],
   "source": []
  },
  {
   "cell_type": "code",
   "execution_count": null,
   "id": "53f32143",
   "metadata": {},
   "outputs": [],
   "source": []
  }
 ],
 "metadata": {
  "kernelspec": {
   "display_name": "ai-hedge-fund-Qm89W7aX-py3.12",
   "language": "python",
   "name": "python3"
  },
  "language_info": {
   "codemirror_mode": {
    "name": "ipython",
    "version": 3
   },
   "file_extension": ".py",
   "mimetype": "text/x-python",
   "name": "python",
   "nbconvert_exporter": "python",
   "pygments_lexer": "ipython3",
   "version": "3.12.8"
  }
 },
 "nbformat": 4,
 "nbformat_minor": 5
}
