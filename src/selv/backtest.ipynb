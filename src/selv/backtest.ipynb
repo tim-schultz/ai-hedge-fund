{
 "cells": [
  {
   "cell_type": "code",
   "execution_count": null,
   "id": "73494fcb",
   "metadata": {},
   "outputs": [],
   "source": [
    "import numpy as np\n",
    "import pandas as pd\n",
    "import tqdm\n",
    "from pathlib import Path\n",
    "import multiprocessing as mp\n",
    "from src.selv.monte_carlo import STRATEGIES, simulate_and_run_strategy  # your strategy definitions\n",
    "from src.selv.vis import plot_synthetic_paths, compare_strategies, analyze_monte_carlo_results\n",
    "\n",
    "CSV_PATH = Path(\"/Users/timschultz/repos/ai-hedge-fund/btc_data.csv\")\n",
    "N_PATHS = 5_000  # simulations\n",
    "SEED = 42\n",
    "\n",
    "original_df = pd.read_csv(CSV_PATH, parse_dates=[\"datetime\"], index_col=\"datetime\")\n"
   ]
  },
  {
   "cell_type": "code",
   "execution_count": null,
   "id": "da520f3b",
   "metadata": {},
   "outputs": [],
   "source": []
  },
  {
   "cell_type": "code",
   "execution_count": 5,
   "id": "4266c5da",
   "metadata": {},
   "outputs": [
    {
     "name": "stdout",
     "output_type": "stream",
     "text": [
      "strategies: {'EMA_10_30_Cross': {'long_entry_fun': <function long_ema_10_30_cross at 0x122c64e00>, 'short_entry_fun': <function short_ema_10_30_cross at 0x122c7fb00>}}\n",
      "Number of tasks: 5000\n"
     ]
    },
    {
     "name": "stderr",
     "output_type": "stream",
     "text": [
      "100%|██████████| 5000/5000 [17:30<00:00,  4.76it/s]\n"
     ]
    },
    {
     "name": "stdout",
     "output_type": "stream",
     "text": [
      "            equity       sharpe       max_dd      path_id\n",
      "count  5000.000000  5000.000000  5000.000000  5000.000000\n",
      "mean      1.034297    -0.407674     0.471711  2499.500000\n",
      "std       0.569342     2.063525     0.131279  1443.520003\n",
      "min       0.161007    -7.453837     0.166815     0.000000\n",
      "5%        0.389110    -3.826326     0.277303   249.950000\n",
      "50%       0.904466    -0.405264     0.463326  2499.500000\n",
      "95%       2.097457     2.951880     0.701231  4749.050000\n",
      "max       6.771377     7.563630     0.858385  4999.000000\n"
     ]
    }
   ],
   "source": [
    "\n",
    "\n",
    "np.random.seed(SEED)\n",
    "\n",
    "tasks = []\n",
    "print(\"strategies:\", STRATEGIES)\n",
    "for strategy_name, funcs in STRATEGIES.items():\n",
    "    for i in range(N_PATHS):\n",
    "        # Each task: (unique_id_for_rng_and_path, strategy_name, long_func, short_func)\n",
    "        # To ensure unique paths for each (strategy, path_num) combination,\n",
    "        # we can use a global path counter for the seed or combine strategy index and path index.\n",
    "        # Here, (i) will be the path_id for a given strategy.\n",
    "        # The RNG seed will be SEED + i, meaning path i for strategy A is same as path i for strategy B.\n",
    "        # If truly independent paths are needed for each strategy-path combo, adjust seeding.\n",
    "        tasks.append(\n",
    "            (i, strategy_name, funcs[\"long_entry_fun\"], funcs[\"short_entry_fun\"], SEED, original_df)\n",
    "        )\n",
    "print(f\"Number of tasks: {len(tasks)}\")\n",
    "\n",
    "with mp.Pool() as pool:\n",
    "    stats = list(\n",
    "        tqdm.tqdm(\n",
    "            pool.imap_unordered(simulate_and_run_strategy, tasks), total=len(tasks)\n",
    "        )\n",
    "    )\n",
    "\n",
    "mc_df = pd.DataFrame(stats)\n",
    "mc_df.to_csv(\"mc_results.csv\", index=False)\n",
    "print(mc_df.describe(percentiles=[0.05, 0.5, 0.95]))"
   ]
  },
  {
   "cell_type": "code",
   "execution_count": null,
   "id": "79606bd4",
   "metadata": {},
   "outputs": [
    {
     "name": "stdout",
     "output_type": "stream",
     "text": [
      "strategies: {'EMA_10_30_Cross': {'long_entry_fun': <function long_ema_10_30_cross at 0x122c64e00>, 'short_entry_fun': <function short_ema_10_30_cross at 0x122c7fb00>}}\n",
      "Number of tasks: 5000\n"
     ]
    },
    {
     "name": "stderr",
     "output_type": "stream",
     "text": [
      " 97%|█████████▋| 4865/5000 [17:10<00:26,  5.05it/s]"
     ]
    }
   ],
   "source": [
    "\n",
    "\n",
    "np.random.seed(SEED)\n",
    "\n",
    "tasks = []\n",
    "print(\"strategies:\", STRATEGIES)\n",
    "for strategy_name, funcs in STRATEGIES.items():\n",
    "    for i in range(N_PATHS):\n",
    "        # Each task: (unique_id_for_rng_and_path, strategy_name, long_func, short_func)\n",
    "        # To ensure unique paths for each (strategy, path_num) combination,\n",
    "        # we can use a global path counter for the seed or combine strategy index and path index.\n",
    "        # Here, (i) will be the path_id for a given strategy.\n",
    "        # The RNG seed will be SEED + i, meaning path i for strategy A is same as path i for strategy B.\n",
    "        # If truly independent paths are needed for each strategy-path combo, adjust seeding.\n",
    "        tasks.append(\n",
    "            (i, strategy_name, funcs[\"long_entry_fun\"], funcs[\"short_entry_fun\"], SEED, original_df)\n",
    "        )\n",
    "print(f\"Number of tasks: {len(tasks)}\")\n",
    "\n",
    "with mp.Pool() as pool:\n",
    "    stats = list(\n",
    "        tqdm.tqdm(\n",
    "            pool.imap_unordered(simulate_and_run_strategy, tasks), total=len(tasks)\n",
    "        )\n",
    "    )\n",
    "\n",
    "mc_df = pd.DataFrame(stats)\n",
    "mc_df.to_csv(\"mc_results.csv\", index=False)\n",
    "print(mc_df.describe(percentiles=[0.05, 0.5, 0.95]))"
   ]
  },
  {
   "cell_type": "code",
   "execution_count": null,
   "id": "25f5c3f8",
   "metadata": {},
   "outputs": [],
   "source": [
    "# Questions:\n",
    "#  1. Is def simulate_path correct?\n",
    "#  2. Build model?? On historical data then run on recent data? Is that even correct term that this is a model?\n",
    "# 3. Compare each aspect of https://media.licdn.com/dms/document/media/v2/D561FAQFmtQMpnT5XUg/feedshare-document-pdf-analyzed/feedshare-document-pdf-analyzed/0/1722857702819?e=1747267200&v=beta&t=5No7UJQwEZxhjN_O7qN5dBhFXclHIf_Fe6W2jQKPkUY to the implementation and try to explain each\n",
    "# 4. Give report a grade and be able to defend the grade. For this will at least need to be able to explain sharpe ratio\n",
    "\n"
   ]
  },
  {
   "cell_type": "code",
   "execution_count": null,
   "id": "4f58448c",
   "metadata": {},
   "outputs": [],
   "source": []
  },
  {
   "cell_type": "code",
   "execution_count": 4,
   "id": "0bda1ea9",
   "metadata": {},
   "outputs": [
    {
     "name": "stdout",
     "output_type": "stream",
     "text": [
      "strategies: {'EMA_10_30_Cross': {'long_entry_fun': <function long_ema_10_30_cross at 0x122c64e00>, 'short_entry_fun': <function short_ema_10_30_cross at 0x122c7fb00>}}\n",
      "Number of tasks: 5000\n"
     ]
    },
    {
     "name": "stderr",
     "output_type": "stream",
     "text": [
      "100%|██████████| 5000/5000 [17:37<00:00,  4.73it/s]"
     ]
    },
    {
     "name": "stdout",
     "output_type": "stream",
     "text": [
      "            equity       sharpe       max_dd      path_id\n",
      "count  5000.000000  5000.000000  5000.000000  5000.000000\n",
      "mean      1.034297    -0.407674     0.471711  2499.500000\n",
      "std       0.569342     2.063525     0.131279  1443.520003\n",
      "min       0.161007    -7.453837     0.166815     0.000000\n",
      "5%        0.389110    -3.826326     0.277303   249.950000\n",
      "50%       0.904466    -0.405264     0.463326  2499.500000\n",
      "95%       2.097457     2.951880     0.701231  4749.050000\n",
      "max       6.771377     7.563630     0.858385  4999.000000\n"
     ]
    },
    {
     "name": "stderr",
     "output_type": "stream",
     "text": [
      "\n"
     ]
    }
   ],
   "source": [
    "\n",
    "\n",
    "np.random.seed(SEED)\n",
    "\n",
    "tasks = []\n",
    "print(\"strategies:\", STRATEGIES)\n",
    "for strategy_name, funcs in STRATEGIES.items():\n",
    "    for i in range(N_PATHS):\n",
    "        # Each task: (unique_id_for_rng_and_path, strategy_name, long_func, short_func)\n",
    "        # To ensure unique paths for each (strategy, path_num) combination,\n",
    "        # we can use a global path counter for the seed or combine strategy index and path index.\n",
    "        # Here, (i) will be the path_id for a given strategy.\n",
    "        # The RNG seed will be SEED + i, meaning path i for strategy A is same as path i for strategy B.\n",
    "        # If truly independent paths are needed for each strategy-path combo, adjust seeding.\n",
    "        tasks.append(\n",
    "            (i, strategy_name, funcs[\"long_entry_fun\"], funcs[\"short_entry_fun\"], SEED, original_df)\n",
    "        )\n",
    "print(f\"Number of tasks: {len(tasks)}\")\n",
    "\n",
    "with mp.Pool() as pool:\n",
    "    stats = list(\n",
    "        tqdm.tqdm(\n",
    "            pool.imap_unordered(simulate_and_run_strategy, tasks), total=len(tasks)\n",
    "        )\n",
    "    )\n",
    "\n",
    "mc_df = pd.DataFrame(stats)\n",
    "mc_df.to_csv(\"mc_results.csv\", index=False)\n",
    "print(mc_df.describe(percentiles=[0.05, 0.5, 0.95]))"
   ]
  },
  {
   "cell_type": "code",
   "execution_count": 7,
   "id": "3d81b2fd",
   "metadata": {},
   "outputs": [
    {
     "ename": "FileNotFoundError",
     "evalue": "No sim_path_*.parquet files found in src/selv/debug",
     "output_type": "error",
     "traceback": [
      "\u001b[31m---------------------------------------------------------------------------\u001b[39m",
      "\u001b[31mFileNotFoundError\u001b[39m                         Traceback (most recent call last)",
      "\u001b[36mCell\u001b[39m\u001b[36m \u001b[39m\u001b[32mIn[7]\u001b[39m\u001b[32m, line 1\u001b[39m\n\u001b[32m----> \u001b[39m\u001b[32m1\u001b[39m fig, paths_df = \u001b[43mplot_synthetic_paths\u001b[49m\u001b[43m(\u001b[49m\u001b[43mdebug_dir_path\u001b[49m\u001b[43m=\u001b[49m\u001b[33;43m\"\u001b[39;49m\u001b[33;43msrc/selv/debug\u001b[39;49m\u001b[33;43m\"\u001b[39;49m\u001b[43m)\u001b[49m\n\u001b[32m      3\u001b[39m \u001b[38;5;66;03m# Compare strategies (average performance)\u001b[39;00m\n\u001b[32m      4\u001b[39m compare_fig = compare_strategies(paths_df)\n",
      "\u001b[36mFile \u001b[39m\u001b[32m~/repos/ai-hedge-fund/src/selv/vis.py:46\u001b[39m, in \u001b[36mplot_synthetic_paths\u001b[39m\u001b[34m(debug_dir_path, save_path, figsize, alpha)\u001b[39m\n\u001b[32m     44\u001b[39m files = \u001b[38;5;28msorted\u001b[39m(debug_dir.glob(\u001b[33m\"\u001b[39m\u001b[33msim_path_*.parquet\u001b[39m\u001b[33m\"\u001b[39m))\n\u001b[32m     45\u001b[39m \u001b[38;5;28;01mif\u001b[39;00m \u001b[38;5;129;01mnot\u001b[39;00m files:\n\u001b[32m---> \u001b[39m\u001b[32m46\u001b[39m     \u001b[38;5;28;01mraise\u001b[39;00m \u001b[38;5;167;01mFileNotFoundError\u001b[39;00m(\u001b[33mf\u001b[39m\u001b[33m\"\u001b[39m\u001b[33mNo sim_path_*.parquet files found in \u001b[39m\u001b[38;5;132;01m{\u001b[39;00mdebug_dir\u001b[38;5;132;01m}\u001b[39;00m\u001b[33m\"\u001b[39m)\n\u001b[32m     48\u001b[39m \u001b[38;5;66;03m# Regex to extract strategy and path_id from filename\u001b[39;00m\n\u001b[32m     49\u001b[39m name_re = re.compile(\u001b[33mr\u001b[39m\u001b[33m\"\u001b[39m\u001b[33m^sim_path_(.+)_(\u001b[39m\u001b[33m\\\u001b[39m\u001b[33md+)\u001b[39m\u001b[33m\\\u001b[39m\u001b[33m.parquet$\u001b[39m\u001b[33m\"\u001b[39m)\n",
      "\u001b[31mFileNotFoundError\u001b[39m: No sim_path_*.parquet files found in src/selv/debug"
     ]
    }
   ],
   "source": [
    "fig, paths_df = plot_synthetic_paths(debug_dir_path=\"src/selv/debug\")\n",
    "\n",
    "# Compare strategies (average performance)\n",
    "compare_fig = compare_strategies(paths_df)\n",
    "\n",
    "# Analyze Monte Carlo results\n",
    "summary, boxplots = analyze_monte_carlo_results(\"mc_results.csv\")\n",
    "print(summary)\n"
   ]
  },
  {
   "cell_type": "code",
   "execution_count": null,
   "id": "1c625d68",
   "metadata": {},
   "outputs": [],
   "source": []
  },
  {
   "cell_type": "code",
   "execution_count": null,
   "id": "2d8d2475",
   "metadata": {},
   "outputs": [],
   "source": []
  },
  {
   "cell_type": "code",
   "execution_count": null,
   "id": "a87a6e5d",
   "metadata": {},
   "outputs": [],
   "source": []
  },
  {
   "cell_type": "code",
   "execution_count": null,
   "id": "e87e6062",
   "metadata": {},
   "outputs": [],
   "source": []
  },
  {
   "cell_type": "code",
   "execution_count": null,
   "id": "0437d3db",
   "metadata": {},
   "outputs": [],
   "source": []
  },
  {
   "cell_type": "code",
   "execution_count": null,
   "id": "e71fcbb4",
   "metadata": {},
   "outputs": [],
   "source": []
  },
  {
   "cell_type": "code",
   "execution_count": null,
   "id": "a2d07234",
   "metadata": {},
   "outputs": [],
   "source": []
  },
  {
   "cell_type": "code",
   "execution_count": null,
   "id": "bca2e25a",
   "metadata": {},
   "outputs": [],
   "source": []
  },
  {
   "cell_type": "code",
   "execution_count": null,
   "id": "0b12890c",
   "metadata": {},
   "outputs": [],
   "source": []
  },
  {
   "cell_type": "code",
   "execution_count": null,
   "id": "2d920dad",
   "metadata": {},
   "outputs": [],
   "source": []
  },
  {
   "cell_type": "code",
   "execution_count": null,
   "id": "c4e94d27",
   "metadata": {},
   "outputs": [],
   "source": []
  },
  {
   "cell_type": "code",
   "execution_count": null,
   "id": "6b901140",
   "metadata": {},
   "outputs": [],
   "source": []
  },
  {
   "cell_type": "code",
   "execution_count": null,
   "id": "81b18b3b",
   "metadata": {},
   "outputs": [],
   "source": []
  },
  {
   "cell_type": "code",
   "execution_count": null,
   "id": "49cdff48",
   "metadata": {},
   "outputs": [],
   "source": []
  },
  {
   "cell_type": "code",
   "execution_count": null,
   "id": "1a15ab47",
   "metadata": {},
   "outputs": [],
   "source": []
  },
  {
   "cell_type": "code",
   "execution_count": null,
   "id": "65de51e4",
   "metadata": {},
   "outputs": [],
   "source": []
  },
  {
   "cell_type": "code",
   "execution_count": null,
   "id": "21c3e107",
   "metadata": {},
   "outputs": [],
   "source": []
  },
  {
   "cell_type": "code",
   "execution_count": null,
   "id": "53f32143",
   "metadata": {},
   "outputs": [],
   "source": []
  }
 ],
 "metadata": {
  "kernelspec": {
   "display_name": "ai-hedge-fund-Qm89W7aX-py3.12",
   "language": "python",
   "name": "python3"
  },
  "language_info": {
   "codemirror_mode": {
    "name": "ipython",
    "version": 3
   },
   "file_extension": ".py",
   "mimetype": "text/x-python",
   "name": "python",
   "nbconvert_exporter": "python",
   "pygments_lexer": "ipython3",
   "version": "3.12.8"
  }
 },
 "nbformat": 4,
 "nbformat_minor": 5
}
