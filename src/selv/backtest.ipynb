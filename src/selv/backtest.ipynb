{
 "cells": [
  {
   "cell_type": "code",
   "execution_count": 32,
   "id": "73494fcb",
   "metadata": {},
   "outputs": [],
   "source": [
    "import numpy as np\n",
    "import pandas as pd\n",
    "import tqdm\n",
    "from pathlib import Path\n",
    "import multiprocessing as mp\n",
    "from src.selv.monte_carlo import simulate_and_run_strategy  # your strategy definitions\n",
    "from src.selv.vis import plot_synthetic_paths, compare_strategies, analyze_monte_carlo_results\n",
    "from src.selv.strategies import STRATEGIES\n",
    "\n",
    "ONE_YR_1M_BTC = Path(\"/Users/timschultz/repos/ai-hedge-fund/btc_data.csv\")\n",
    "FIVE_YR_1M_BTC = Path(\"/Users/timschultz/repos/ai-hedge-fund/btc_1m_5yr.csv\")\n",
    "N_PATHS = 5_000  # simulations\n",
    "SEED = 42\n",
    "\n",
    "five_year_1m_btc = pd.read_csv(FIVE_YR_1M_BTC, parse_dates=[\"datetime\"], index_col=\"datetime\")\n"
   ]
  },
  {
   "cell_type": "code",
   "execution_count": 33,
   "id": "20985e80",
   "metadata": {},
   "outputs": [
    {
     "data": {
      "text/plain": [
       "{'EMA_10_30_Cross': {'long_entry_fun': <function src.selv.strategies.long_ema_10_30_cross(df: pandas.core.frame.DataFrame) -> pandas.core.series.Series>,\n",
       "  'short_entry_fun': <function src.selv.strategies.short_ema_10_30_cross(df: pandas.core.frame.DataFrame) -> pandas.core.series.Series>,\n",
       "  'tp': 0.015,\n",
       "  'sl': 0.0075,\n",
       "  'max_minutes': 720},\n",
       " 'SMA_50_200_Cross': {'long_entry_fun': <function src.selv.strategies.long_sma_50_200_cross(df: pandas.core.frame.DataFrame) -> pandas.core.series.Series>,\n",
       "  'short_entry_fun': <function src.selv.strategies.short_sma_50_200_cross(df: pandas.core.frame.DataFrame) -> pandas.core.series.Series>,\n",
       "  'tp': 0.04,\n",
       "  'sl': 0.02,\n",
       "  'max_minutes': 4320},\n",
       " 'RSI_30_70': {'long_entry_fun': <function src.selv.strategies.long_rsi_30_70(df: pandas.core.frame.DataFrame) -> pandas.core.series.Series>,\n",
       "  'short_entry_fun': <function src.selv.strategies.short_rsi_30_70(df: pandas.core.frame.DataFrame) -> pandas.core.series.Series>,\n",
       "  'tp': 0.025,\n",
       "  'sl': 0.0125,\n",
       "  'max_minutes': 1440},\n",
       " 'MACD_Cross': {'long_entry_fun': <function src.selv.strategies.long_macd_cross(df: pandas.core.frame.DataFrame) -> pandas.core.series.Series>,\n",
       "  'short_entry_fun': <function src.selv.strategies.short_macd_cross(df: pandas.core.frame.DataFrame) -> pandas.core.series.Series>,\n",
       "  'tp': 0.03,\n",
       "  'sl': 0.015,\n",
       "  'max_minutes': 2880},\n",
       " 'MACD_RSI_Confirm': {'long_entry_fun': <function src.selv.strategies.long_macd_rsi_confirm(df: pandas.core.frame.DataFrame) -> pandas.core.series.Series>,\n",
       "  'short_entry_fun': <function src.selv.strategies.short_macd_rsi_confirm(df: pandas.core.frame.DataFrame) -> pandas.core.series.Series>,\n",
       "  'tp': 0.02,\n",
       "  'sl': 0.01,\n",
       "  'max_minutes': 1440},\n",
       " 'Bollinger_MeanRev': {'long_entry_fun': <function src.selv.strategies.long_bband_meanrev(df: pandas.core.frame.DataFrame) -> pandas.core.series.Series>,\n",
       "  'short_entry_fun': <function src.selv.strategies.exit_bband_meanrev(df: pandas.core.frame.DataFrame) -> pandas.core.series.Series>,\n",
       "  'tp': 0.02,\n",
       "  'sl': 0.01,\n",
       "  'max_minutes': 720},\n",
       " 'Golden_Cross_21_50': {'long_entry_fun': <function src.selv.strategies.long_golden_cross(df: pandas.core.frame.DataFrame) -> pandas.core.series.Series>,\n",
       "  'short_entry_fun': <function src.selv.strategies.exit_golden_cross(df: pandas.core.frame.DataFrame) -> pandas.core.series.Series>,\n",
       "  'tp': 0.03,\n",
       "  'sl': 0.015,\n",
       "  'max_minutes': 2880},\n",
       " 'StochRSI_Bounce': {'long_entry_fun': <function src.selv.strategies.long_stochrsi(df: pandas.core.frame.DataFrame) -> pandas.core.series.Series>,\n",
       "  'short_entry_fun': <function src.selv.strategies.exit_stochrsi(df: pandas.core.frame.DataFrame) -> pandas.core.series.Series>,\n",
       "  'tp': 0.015,\n",
       "  'sl': 0.0075,\n",
       "  'max_minutes': 720},\n",
       " 'TEMA_Trend': {'long_entry_fun': <function src.selv.strategies.long_tema_trend(df: pandas.core.frame.DataFrame) -> pandas.core.series.Series>,\n",
       "  'short_entry_fun': <function src.selv.strategies.exit_tema_trend(df: pandas.core.frame.DataFrame) -> pandas.core.series.Series>,\n",
       "  'tp': 0.025,\n",
       "  'sl': 0.0125,\n",
       "  'max_minutes': 1440},\n",
       " 'VWAP_Pullback': {'long_entry_fun': <function src.selv.strategies.long_vwap_pullback(df: pandas.core.frame.DataFrame) -> pandas.core.series.Series>,\n",
       "  'short_entry_fun': <function src.selv.strategies.exit_vwap_pullback(df: pandas.core.frame.DataFrame) -> pandas.core.series.Series>,\n",
       "  'tp': 0.01,\n",
       "  'sl': 0.005,\n",
       "  'max_minutes': 240}}"
      ]
     },
     "execution_count": 33,
     "metadata": {},
     "output_type": "execute_result"
    }
   ],
   "source": [
    "STRATEGIES"
   ]
  },
  {
   "cell_type": "code",
   "execution_count": null,
   "id": "20bda8a1",
   "metadata": {},
   "outputs": [],
   "source": []
  },
  {
   "cell_type": "code",
   "execution_count": null,
   "id": "73254b35",
   "metadata": {},
   "outputs": [],
   "source": []
  },
  {
   "cell_type": "markdown",
   "id": "9652c739",
   "metadata": {},
   "source": [
    "### Incorrect and Missing Data:\n",
    "- Coinbase should be a valid source\n",
    "- Script below checks for missing values\n"
   ]
  },
  {
   "cell_type": "code",
   "execution_count": 34,
   "id": "641ec66f",
   "metadata": {},
   "outputs": [
    {
     "name": "stdout",
     "output_type": "stream",
     "text": [
      "✅ No missing values — every row is complete.\n"
     ]
    }
   ],
   "source": [
    "# ---------- 1. Boolean mask of bad rows ----------\n",
    "# True  -> this row contains at least one NaN\n",
    "# False -> row is fully populated\n",
    "bad_rows = five_year_1m_btc.isna().any(axis=1)\n",
    "\n",
    "# ---------- 2a. Simple pass/fail check ----------\n",
    "if not bad_rows.any():\n",
    "    print(\"✅ No missing values — every row is complete.\")\n",
    "else:\n",
    "    print(f\"❌ Found {bad_rows.sum()} incomplete rows out of {len(df)}.\")\n",
    "    # optional preview\n",
    "    print(five_year_1m_btc[bad_rows].head())"
   ]
  },
  {
   "cell_type": "markdown",
   "id": "d8a88acc",
   "metadata": {},
   "source": [
    "Data Representativeness\n",
    "Implement  Min-Track-Record-Length to determine sufficient level of observations"
   ]
  },
  {
   "cell_type": "code",
   "execution_count": null,
   "id": "10321558",
   "metadata": {},
   "outputs": [
    {
     "name": "stdout",
     "output_type": "stream",
     "text": [
      "strategies: dict_keys(['EMA_10_30_Cross', 'SMA_50_200_Cross', 'RSI_30_70', 'MACD_Cross', 'MACD_RSI_Confirm', 'Bollinger_MeanRev', 'Golden_Cross_21_50', 'StochRSI_Bounce', 'TEMA_Trend', 'VWAP_Pullback'])\n",
      "Number of tasks: 100000\n"
     ]
    },
    {
     "name": "stderr",
     "output_type": "stream",
     "text": [
      "  0%|          | 132/100000 [00:33<6:02:13,  4.60it/s]"
     ]
    }
   ],
   "source": [
    "# --- build tasks -----------------------------------------------------------\n",
    "five_year_1m_btc = pd.read_csv(FIVE_YR_1M_BTC,\n",
    "                               parse_dates=[\"datetime\"],\n",
    "                               index_col=\"datetime\")\n",
    "one_year_1m_btc = pd.read_csv(ONE_YR_1M_BTC,\n",
    "                               parse_dates=[\"datetime\"],\n",
    "                               index_col=\"datetime\")\n",
    "\n",
    "N_PATHS = 500\n",
    "SEED     = 42\n",
    "\n",
    "tasks = []\n",
    "print(\"strategies:\", STRATEGIES.keys())\n",
    "\n",
    "exec_variants = [           # (label understood by the worker, comment)\n",
    "    (\"LS\", \"long_short_strategy\"),\n",
    "    (\"BS\", \"buy_sell_strategy\"),\n",
    "]\n",
    "\n",
    "for strategy_name, funcs in STRATEGIES.items():\n",
    "    for i in range(N_PATHS):           # path_id shared across exec‑types\n",
    "        for exec_type, _ in exec_variants:\n",
    "            seed = SEED + i            # same seed for same path‑ID\n",
    "            tasks.append(\n",
    "                (\n",
    "                    i,                       # path_id  (worker_id)\n",
    "                    strategy_name,           # which logical strategy\n",
    "                    exec_type,               # 'LS'  or 'BS'\n",
    "                    funcs[\"long_entry_fun\"],\n",
    "                    funcs[\"short_entry_fun\"],\n",
    "                    funcs[\"tp\"],\n",
    "                    funcs[\"sl\"],\n",
    "                    funcs[\"max_minutes\"],\n",
    "                    seed,\n",
    "                    one_year_1m_btc,\n",
    "                )\n",
    "            )\n",
    "\n",
    "print(f\"Number of tasks: {len(tasks)}\")\n",
    "# e.g. len(STRATEGIES)=10  →  10 × 50 × 2 = 1000 tasks\n",
    "\n",
    "# --- run in parallel -------------------------------------------------------\n",
    "with mp.Pool() as pool:\n",
    "    stats = list(\n",
    "        tqdm.tqdm(\n",
    "            pool.imap_unordered(simulate_and_run_strategy, tasks),\n",
    "            total=len(tasks),\n",
    "        )\n",
    "    )\n",
    "\n",
    "mc_df = pd.DataFrame(stats)\n",
    "mc_df.to_csv(\"mc_results.csv\", index=False)\n",
    "\n",
    "# quick multi‑index view: (strategy , exec_type) → Sharpe\n",
    "print(\n",
    "    mc_df.pivot_table(index=\"strategy_name\",\n",
    "                      columns=\"exec_type\",\n",
    "                      values=\"sharpe\").round(2)\n",
    ")\n",
    "\n",
    "print(mc_df.describe(percentiles=[0.05, 0.5, 0.95]))"
   ]
  },
  {
   "cell_type": "code",
   "execution_count": null,
   "id": "75c26c0a",
   "metadata": {},
   "outputs": [],
   "source": []
  },
  {
   "cell_type": "code",
   "execution_count": null,
   "id": "b04f72e9",
   "metadata": {},
   "outputs": [],
   "source": []
  },
  {
   "cell_type": "code",
   "execution_count": null,
   "id": "4d38b2df",
   "metadata": {},
   "outputs": [],
   "source": []
  },
  {
   "cell_type": "code",
   "execution_count": null,
   "id": "e2afd466",
   "metadata": {},
   "outputs": [],
   "source": []
  },
  {
   "cell_type": "code",
   "execution_count": null,
   "id": "fd1f6455",
   "metadata": {},
   "outputs": [],
   "source": []
  },
  {
   "cell_type": "code",
   "execution_count": null,
   "id": "0e16f600",
   "metadata": {},
   "outputs": [],
   "source": []
  },
  {
   "cell_type": "code",
   "execution_count": null,
   "id": "98f403d6",
   "metadata": {},
   "outputs": [],
   "source": []
  },
  {
   "cell_type": "code",
   "execution_count": null,
   "id": "2a617139",
   "metadata": {},
   "outputs": [],
   "source": []
  },
  {
   "cell_type": "code",
   "execution_count": null,
   "id": "774ea1b1",
   "metadata": {},
   "outputs": [],
   "source": []
  },
  {
   "cell_type": "code",
   "execution_count": null,
   "id": "2a655817",
   "metadata": {},
   "outputs": [
    {
     "name": "stdout",
     "output_type": "stream",
     "text": [
      "Share of paths with significant Sharpe: 0.999\n"
     ]
    }
   ],
   "source": [
    "sig = mc_df[\"MinTRL\"] <= len(five_year_1m_btc)    # statistically significant\n",
    "print(\"Share of paths with significant Sharpe:\", sig.mean())"
   ]
  },
  {
   "cell_type": "code",
   "execution_count": null,
   "id": "6027e2b3",
   "metadata": {},
   "outputs": [],
   "source": []
  },
  {
   "cell_type": "code",
   "execution_count": null,
   "id": "c0f8086b",
   "metadata": {},
   "outputs": [],
   "source": []
  },
  {
   "cell_type": "code",
   "execution_count": null,
   "id": "25f5c3f8",
   "metadata": {},
   "outputs": [],
   "source": [
    "# 1. Is def simulate_path correct?\n",
    "# TODO\n"
   ]
  },
  {
   "cell_type": "code",
   "execution_count": null,
   "id": "1475de24",
   "metadata": {},
   "outputs": [],
   "source": [
    "# 3. Compare each aspect of https://media.licdn.com/dms/document/media/v2/D561FAQFmtQMpnT5XUg/feedshare-document-pdf-analyzed/feedshare-document-pdf-analyzed/0/1722857702819?e=1747267200&v=beta&t=5No7UJQwEZxhjN_O7qN5dBhFXclHIf_Fe6W2jQKPkUY to the implementation and try to explain each"
   ]
  },
  {
   "cell_type": "code",
   "execution_count": null,
   "id": "619435db",
   "metadata": {},
   "outputs": [],
   "source": [
    "# Slippage, TX Fees, Liquidity\n"
   ]
  },
  {
   "cell_type": "code",
   "execution_count": null,
   "id": "99625cd4",
   "metadata": {},
   "outputs": [],
   "source": [
    "# 4. Give report a grade and be able to defend the grade. For this will at least need to be able to explain sharpe ratio"
   ]
  },
  {
   "cell_type": "code",
   "execution_count": null,
   "id": "3f971d19",
   "metadata": {},
   "outputs": [],
   "source": [
    "# 5. Improve the report. Add graphs. Fix up actual strategy"
   ]
  },
  {
   "cell_type": "code",
   "execution_count": null,
   "id": "047bbeb6",
   "metadata": {},
   "outputs": [],
   "source": [
    "# 6. Run on live data. Finish up the live data script????"
   ]
  },
  {
   "cell_type": "code",
   "execution_count": null,
   "id": "4f58448c",
   "metadata": {},
   "outputs": [
    {
     "name": "stdout",
     "output_type": "stream",
     "text": [
      "strategies: {'EMA_10_30_Cross': {'long_entry_fun': <function long_ema_10_30_cross at 0x166949bc0>, 'short_entry_fun': <function short_ema_10_30_cross at 0x166949c60>, 'tp': 0.015, 'sl': 0.0075, 'max_minutes': 720}, 'SMA_50_200_Cross': {'long_entry_fun': <function long_sma_50_200_cross at 0x166949d00>, 'short_entry_fun': <function short_sma_50_200_cross at 0x166949da0>, 'tp': 0.04, 'sl': 0.02, 'max_minutes': 4320}, 'RSI_30_70': {'long_entry_fun': <function long_rsi_30_70 at 0x166949e40>, 'short_entry_fun': <function short_rsi_30_70 at 0x166949ee0>, 'tp': 0.025, 'sl': 0.0125, 'max_minutes': 1440}, 'MACD_Cross': {'long_entry_fun': <function long_macd_cross at 0x166949f80>, 'short_entry_fun': <function short_macd_cross at 0x16694a020>, 'tp': 0.03, 'sl': 0.015, 'max_minutes': 2880}, 'MACD_RSI_Confirm': {'long_entry_fun': <function long_macd_rsi_confirm at 0x16694a0c0>, 'short_entry_fun': <function short_macd_rsi_confirm at 0x16694a160>, 'tp': 0.02, 'sl': 0.01, 'max_minutes': 1440}, 'Bollinger_MeanRev': {'long_entry_fun': <function long_bband_meanrev at 0x16694a200>, 'short_entry_fun': <function exit_bband_meanrev at 0x16694a2a0>, 'tp': 0.02, 'sl': 0.01, 'max_minutes': 720}, 'Golden_Cross_21_50': {'long_entry_fun': <function long_golden_cross at 0x16694a340>, 'short_entry_fun': <function exit_golden_cross at 0x16694a3e0>, 'tp': 0.03, 'sl': 0.015, 'max_minutes': 2880}, 'StochRSI_Bounce': {'long_entry_fun': <function long_stochrsi at 0x16694a480>, 'short_entry_fun': <function exit_stochrsi at 0x16694a520>, 'tp': 0.015, 'sl': 0.0075, 'max_minutes': 720}, 'TEMA_Trend': {'long_entry_fun': <function long_tema_trend at 0x16694a5c0>, 'short_entry_fun': <function exit_tema_trend at 0x16694a660>, 'tp': 0.025, 'sl': 0.0125, 'max_minutes': 1440}, 'VWAP_Pullback': {'long_entry_fun': <function long_vwap_pullback at 0x16694a700>, 'short_entry_fun': <function exit_vwap_pullback at 0x16694a7a0>, 'tp': 0.01, 'sl': 0.005, 'max_minutes': 240}}\n"
     ]
    },
    {
     "ename": "NameError",
     "evalue": "name 'original_df' is not defined",
     "output_type": "error",
     "traceback": [
      "\u001b[31m---------------------------------------------------------------------------\u001b[39m",
      "\u001b[31mNameError\u001b[39m                                 Traceback (most recent call last)",
      "\u001b[36mCell\u001b[39m\u001b[36m \u001b[39m\u001b[32mIn[30]\u001b[39m\u001b[32m, line 12\u001b[39m\n\u001b[32m      3\u001b[39m \u001b[38;5;28;01mfor\u001b[39;00m strategy_name, funcs \u001b[38;5;129;01min\u001b[39;00m STRATEGIES.items():\n\u001b[32m      4\u001b[39m     \u001b[38;5;28;01mfor\u001b[39;00m i \u001b[38;5;129;01min\u001b[39;00m \u001b[38;5;28mrange\u001b[39m(N_PATHS):\n\u001b[32m      5\u001b[39m         \u001b[38;5;66;03m# Each task: (unique_id_for_rng_and_path, strategy_name, long_func, short_func)\u001b[39;00m\n\u001b[32m      6\u001b[39m         \u001b[38;5;66;03m# To ensure unique paths for each (strategy, path_num) combination,\u001b[39;00m\n\u001b[32m   (...)\u001b[39m\u001b[32m      9\u001b[39m         \u001b[38;5;66;03m# The RNG seed will be SEED + i, meaning path i for strategy A is same as path i for strategy B.\u001b[39;00m\n\u001b[32m     10\u001b[39m         \u001b[38;5;66;03m# If truly independent paths are needed for each strategy-path combo, adjust seeding.\u001b[39;00m\n\u001b[32m     11\u001b[39m         tasks.append(\n\u001b[32m---> \u001b[39m\u001b[32m12\u001b[39m             (i, strategy_name, funcs[\u001b[33m\"\u001b[39m\u001b[33mlong_entry_fun\u001b[39m\u001b[33m\"\u001b[39m], funcs[\u001b[33m\"\u001b[39m\u001b[33mshort_entry_fun\u001b[39m\u001b[33m\"\u001b[39m], SEED, \u001b[43moriginal_df\u001b[49m)\n\u001b[32m     13\u001b[39m         )\n\u001b[32m     14\u001b[39m \u001b[38;5;28mprint\u001b[39m(\u001b[33mf\u001b[39m\u001b[33m\"\u001b[39m\u001b[33mNumber of tasks: \u001b[39m\u001b[38;5;132;01m{\u001b[39;00m\u001b[38;5;28mlen\u001b[39m(tasks)\u001b[38;5;132;01m}\u001b[39;00m\u001b[33m\"\u001b[39m)\n\u001b[32m     16\u001b[39m \u001b[38;5;28;01mwith\u001b[39;00m mp.Pool() \u001b[38;5;28;01mas\u001b[39;00m pool:\n",
      "\u001b[31mNameError\u001b[39m: name 'original_df' is not defined"
     ]
    }
   ],
   "source": [
    "tasks = []\n",
    "print(\"strategies:\", STRATEGIES)\n",
    "for strategy_name, funcs in STRATEGIES.items():\n",
    "    for i in range(N_PATHS):\n",
    "        # Each task: (unique_id_for_rng_and_path, strategy_name, long_func, short_func)\n",
    "        # To ensure unique paths for each (strategy, path_num) combination,\n",
    "        # we can use a global path counter for the seed or combine strategy index and path index.\n",
    "        # Here, (i) will be the path_id for a given strategy.\n",
    "        # The RNG seed will be SEED + i, meaning path i for strategy A is same as path i for strategy B.\n",
    "        # If truly independent paths are needed for each strategy-path combo, adjust seeding.\n",
    "        tasks.append(\n",
    "            (i, strategy_name, funcs[\"long_entry_fun\"], funcs[\"short_entry_fun\"], SEED, original_df)\n",
    "        )\n",
    "print(f\"Number of tasks: {len(tasks)}\")\n",
    "\n",
    "with mp.Pool() as pool:\n",
    "    stats = list(\n",
    "        tqdm.tqdm(\n",
    "            pool.imap_unordered(simulate_and_run_strategy, tasks), total=len(tasks)\n",
    "        )\n",
    "    )\n",
    "\n",
    "mc_df = pd.DataFrame(stats)\n",
    "mc_df.to_csv(\"mc_results.csv\", index=False)\n",
    "print(mc_df.describe(percentiles=[0.05, 0.5, 0.95]))"
   ]
  },
  {
   "cell_type": "code",
   "execution_count": null,
   "id": "ea2434a4",
   "metadata": {},
   "outputs": [],
   "source": []
  },
  {
   "cell_type": "code",
   "execution_count": null,
   "id": "32dc3bdb",
   "metadata": {},
   "outputs": [],
   "source": []
  },
  {
   "cell_type": "code",
   "execution_count": null,
   "id": "0bda1ea9",
   "metadata": {},
   "outputs": [
    {
     "name": "stdout",
     "output_type": "stream",
     "text": [
      "strategies: {'EMA_10_30_Cross': {'long_entry_fun': <function long_ema_10_30_cross at 0x122c64e00>, 'short_entry_fun': <function short_ema_10_30_cross at 0x122c7fb00>}}\n",
      "Number of tasks: 5000\n"
     ]
    },
    {
     "name": "stderr",
     "output_type": "stream",
     "text": [
      "100%|██████████| 5000/5000 [17:37<00:00,  4.73it/s]"
     ]
    },
    {
     "name": "stdout",
     "output_type": "stream",
     "text": [
      "            equity       sharpe       max_dd      path_id\n",
      "count  5000.000000  5000.000000  5000.000000  5000.000000\n",
      "mean      1.034297    -0.407674     0.471711  2499.500000\n",
      "std       0.569342     2.063525     0.131279  1443.520003\n",
      "min       0.161007    -7.453837     0.166815     0.000000\n",
      "5%        0.389110    -3.826326     0.277303   249.950000\n",
      "50%       0.904466    -0.405264     0.463326  2499.500000\n",
      "95%       2.097457     2.951880     0.701231  4749.050000\n",
      "max       6.771377     7.563630     0.858385  4999.000000\n"
     ]
    },
    {
     "name": "stderr",
     "output_type": "stream",
     "text": [
      "\n"
     ]
    }
   ],
   "source": [
    "tasks = []\n",
    "print(\"strategies:\", STRATEGIES)\n",
    "for strategy_name, funcs in STRATEGIES.items():\n",
    "    for i in range(N_PATHS):\n",
    "        # Each task: (unique_id_for_rng_and_path, strategy_name, long_func, short_func)\n",
    "        # To ensure unique paths for each (strategy, path_num) combination,\n",
    "        # we can use a global path counter for the seed or combine strategy index and path index.\n",
    "        # Here, (i) will be the path_id for a given strategy.\n",
    "        # The RNG seed will be SEED + i, meaning path i for strategy A is same as path i for strategy B.\n",
    "        # If truly independent paths are needed for each strategy-path combo, adjust seeding.\n",
    "        tasks.append(\n",
    "            (i, strategy_name, funcs[\"long_entry_fun\"], funcs[\"short_entry_fun\"], SEED, original_df)\n",
    "        )\n",
    "print(f\"Number of tasks: {len(tasks)}\")\n",
    "\n",
    "with mp.Pool() as pool:\n",
    "    stats = list(\n",
    "        tqdm.tqdm(\n",
    "            pool.imap_unordered(simulate_and_run_strategy, tasks), total=len(tasks)\n",
    "        )\n",
    "    )\n",
    "\n",
    "mc_df = pd.DataFrame(stats)\n",
    "mc_df.to_csv(\"mc_results.csv\", index=False)\n",
    "print(mc_df.describe(percentiles=[0.05, 0.5, 0.95]))"
   ]
  },
  {
   "cell_type": "code",
   "execution_count": null,
   "id": "3d81b2fd",
   "metadata": {},
   "outputs": [
    {
     "ename": "FileNotFoundError",
     "evalue": "No sim_path_*.parquet files found in src/selv/debug",
     "output_type": "error",
     "traceback": [
      "\u001b[31m---------------------------------------------------------------------------\u001b[39m",
      "\u001b[31mFileNotFoundError\u001b[39m                         Traceback (most recent call last)",
      "\u001b[36mCell\u001b[39m\u001b[36m \u001b[39m\u001b[32mIn[7]\u001b[39m\u001b[32m, line 1\u001b[39m\n\u001b[32m----> \u001b[39m\u001b[32m1\u001b[39m fig, paths_df = \u001b[43mplot_synthetic_paths\u001b[49m\u001b[43m(\u001b[49m\u001b[43mdebug_dir_path\u001b[49m\u001b[43m=\u001b[49m\u001b[33;43m\"\u001b[39;49m\u001b[33;43msrc/selv/debug\u001b[39;49m\u001b[33;43m\"\u001b[39;49m\u001b[43m)\u001b[49m\n\u001b[32m      3\u001b[39m \u001b[38;5;66;03m# Compare strategies (average performance)\u001b[39;00m\n\u001b[32m      4\u001b[39m compare_fig = compare_strategies(paths_df)\n",
      "\u001b[36mFile \u001b[39m\u001b[32m~/repos/ai-hedge-fund/src/selv/vis.py:46\u001b[39m, in \u001b[36mplot_synthetic_paths\u001b[39m\u001b[34m(debug_dir_path, save_path, figsize, alpha)\u001b[39m\n\u001b[32m     44\u001b[39m files = \u001b[38;5;28msorted\u001b[39m(debug_dir.glob(\u001b[33m\"\u001b[39m\u001b[33msim_path_*.parquet\u001b[39m\u001b[33m\"\u001b[39m))\n\u001b[32m     45\u001b[39m \u001b[38;5;28;01mif\u001b[39;00m \u001b[38;5;129;01mnot\u001b[39;00m files:\n\u001b[32m---> \u001b[39m\u001b[32m46\u001b[39m     \u001b[38;5;28;01mraise\u001b[39;00m \u001b[38;5;167;01mFileNotFoundError\u001b[39;00m(\u001b[33mf\u001b[39m\u001b[33m\"\u001b[39m\u001b[33mNo sim_path_*.parquet files found in \u001b[39m\u001b[38;5;132;01m{\u001b[39;00mdebug_dir\u001b[38;5;132;01m}\u001b[39;00m\u001b[33m\"\u001b[39m)\n\u001b[32m     48\u001b[39m \u001b[38;5;66;03m# Regex to extract strategy and path_id from filename\u001b[39;00m\n\u001b[32m     49\u001b[39m name_re = re.compile(\u001b[33mr\u001b[39m\u001b[33m\"\u001b[39m\u001b[33m^sim_path_(.+)_(\u001b[39m\u001b[33m\\\u001b[39m\u001b[33md+)\u001b[39m\u001b[33m\\\u001b[39m\u001b[33m.parquet$\u001b[39m\u001b[33m\"\u001b[39m)\n",
      "\u001b[31mFileNotFoundError\u001b[39m: No sim_path_*.parquet files found in src/selv/debug"
     ]
    }
   ],
   "source": [
    "fig, paths_df = plot_synthetic_paths(debug_dir_path=\"src/selv/debug\")\n",
    "\n",
    "# Compare strategies (average performance)\n",
    "compare_fig = compare_strategies(paths_df)\n",
    "\n",
    "# Analyze Monte Carlo results\n",
    "summary, boxplots = analyze_monte_carlo_results(\"mc_results.csv\")\n",
    "print(summary)\n"
   ]
  },
  {
   "cell_type": "code",
   "execution_count": null,
   "id": "1c625d68",
   "metadata": {},
   "outputs": [],
   "source": []
  },
  {
   "cell_type": "code",
   "execution_count": null,
   "id": "2d8d2475",
   "metadata": {},
   "outputs": [],
   "source": []
  },
  {
   "cell_type": "code",
   "execution_count": null,
   "id": "a87a6e5d",
   "metadata": {},
   "outputs": [],
   "source": []
  },
  {
   "cell_type": "code",
   "execution_count": null,
   "id": "e87e6062",
   "metadata": {},
   "outputs": [],
   "source": []
  },
  {
   "cell_type": "code",
   "execution_count": null,
   "id": "0437d3db",
   "metadata": {},
   "outputs": [],
   "source": []
  },
  {
   "cell_type": "code",
   "execution_count": null,
   "id": "e71fcbb4",
   "metadata": {},
   "outputs": [],
   "source": []
  },
  {
   "cell_type": "code",
   "execution_count": null,
   "id": "a2d07234",
   "metadata": {},
   "outputs": [],
   "source": []
  },
  {
   "cell_type": "code",
   "execution_count": null,
   "id": "bca2e25a",
   "metadata": {},
   "outputs": [],
   "source": []
  },
  {
   "cell_type": "code",
   "execution_count": null,
   "id": "0b12890c",
   "metadata": {},
   "outputs": [],
   "source": []
  },
  {
   "cell_type": "code",
   "execution_count": null,
   "id": "2d920dad",
   "metadata": {},
   "outputs": [],
   "source": []
  },
  {
   "cell_type": "code",
   "execution_count": null,
   "id": "c4e94d27",
   "metadata": {},
   "outputs": [],
   "source": []
  },
  {
   "cell_type": "code",
   "execution_count": null,
   "id": "6b901140",
   "metadata": {},
   "outputs": [],
   "source": []
  },
  {
   "cell_type": "code",
   "execution_count": null,
   "id": "81b18b3b",
   "metadata": {},
   "outputs": [],
   "source": []
  },
  {
   "cell_type": "code",
   "execution_count": null,
   "id": "49cdff48",
   "metadata": {},
   "outputs": [],
   "source": []
  },
  {
   "cell_type": "code",
   "execution_count": null,
   "id": "1a15ab47",
   "metadata": {},
   "outputs": [],
   "source": []
  },
  {
   "cell_type": "code",
   "execution_count": null,
   "id": "65de51e4",
   "metadata": {},
   "outputs": [],
   "source": []
  },
  {
   "cell_type": "code",
   "execution_count": null,
   "id": "21c3e107",
   "metadata": {},
   "outputs": [],
   "source": []
  },
  {
   "cell_type": "code",
   "execution_count": null,
   "id": "53f32143",
   "metadata": {},
   "outputs": [],
   "source": []
  }
 ],
 "metadata": {
  "kernelspec": {
   "display_name": "ai-hedge-fund-Qm89W7aX-py3.12",
   "language": "python",
   "name": "python3"
  },
  "language_info": {
   "codemirror_mode": {
    "name": "ipython",
    "version": 3
   },
   "file_extension": ".py",
   "mimetype": "text/x-python",
   "name": "python",
   "nbconvert_exporter": "python",
   "pygments_lexer": "ipython3",
   "version": "3.12.8"
  }
 },
 "nbformat": 4,
 "nbformat_minor": 5
}
